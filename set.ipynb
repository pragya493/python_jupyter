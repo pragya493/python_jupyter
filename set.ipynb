{
 "cells": [
  {
   "cell_type": "code",
   "execution_count": null,
   "id": "6f498b74",
   "metadata": {},
   "outputs": [
    {
     "name": "stdout",
     "output_type": "stream",
     "text": [
      "{1, 2, 3} <class 'set'>\n",
      "{'c', 'b', 'a'}\n",
      "{'c', 'd', 'b', 'a'}\n",
      "{'cool', 'warm'}\n",
      "{'24', 'x', 'open', '7'}\n",
      "{'Mary', 'Jane', 'Lydia', 'Kitty', 'Elizabeth'}\n",
      "{'Mary', 'Jane', 'Lydia', 'Kitty', 'Elizabeth'}\n",
      "{3}\n",
      "{3}\n",
      "{10, 20}\n",
      "set()\n"
     ]
    }
   ],
   "source": [
    "#Set - no duplicates, unordered collection. Internally uses hashing.\n",
    "#set - Mutab;e - can add/remove after it's creation. Individual ele can't be changed directly\n",
    "\n",
    "s = {1, 2, 3}\n",
    "print(s, type(s))\n",
    "\n",
    "#Typecasting list to set\n",
    "s = set([\"a\", \"b\", \"c\"])\n",
    "print(s)\n",
    "\n",
    "#add\n",
    "s.add(\"d\")\n",
    "print(s)\n",
    "\n",
    "#can't have duplicates\n",
    "s = {\"cool\", \"warm\", \"cool\"}\n",
    "print(s)\n",
    "\n",
    "#heterogeneous\n",
    "s = {\"24\", \"x\", \"7\", \"open\"}\n",
    "print(s)\n",
    "\n",
    "#Union\n",
    "s1 = {\"Jane\", \"Elizabeth\"}\n",
    "s2 = {\"Mary\", \"Kitty\", \"Lydia\"}\n",
    "\n",
    "res = s1.union(s2)\n",
    "print(res)\n",
    "\n",
    "res = s1|s2\n",
    "print(res)\n",
    "\n",
    "#Intersection\n",
    "s1 = {1, 2, 3}\n",
    "s2 = {3, 4, 5}\n",
    "\n",
    "res = s1.intersection(s2)\n",
    "print(res)\n",
    "\n",
    "res = s1 & s2\n",
    "print(res)\n",
    "\n",
    "#difference\n",
    "s1 = {5, 10, 20}\n",
    "s2 = {5, 5, 5}\n",
    "\n",
    "res = s1.difference(s2)\n",
    "print(res)\n",
    "\n",
    "#clear\n",
    "s1 = {1, 2, 3}\n",
    "s1.clear()\n",
    "print(s1)"
   ]
  },
  {
   "cell_type": "code",
   "execution_count": null,
   "id": "e66005c5",
   "metadata": {},
   "outputs": [
    {
     "name": "stdout",
     "output_type": "stream",
     "text": [
      "{'X', 'a', 'e', 'c', 'S', 'p'}\n",
      "{'Elon', 'Musk'}\n",
      "{'Future', 'of', 'Class'}\n"
     ]
    }
   ],
   "source": [
    "s1 = set(\"SpaceX\")\n",
    "print(s1)\n",
    "\n",
    "tup = (\"Elon\", \"Musk\")\n",
    "print(set(tup))\n",
    "\n",
    "d = {\"Class\": 1, \"of\": 2, \"Future\": 3}\n",
    "print(set(d))"
   ]
  },
  {
   "cell_type": "code",
   "execution_count": 27,
   "id": "86b7bb7a",
   "metadata": {},
   "outputs": [
    {
     "name": "stdout",
     "output_type": "stream",
     "text": [
      "{1, 2, 3, 5, 6}\n",
      "{1, 2, 3, 6}\n",
      "{1, 2, 6}\n",
      "1\n",
      "{2, 6}\n",
      "frozenset({1, 3, 4, 5})\n"
     ]
    }
   ],
   "source": [
    "s1 = {1, 2, 3}\n",
    "s1.update([5, 6])\n",
    "print(s1)\n",
    "\n",
    "s1.remove(5)\n",
    "print(s1)\n",
    "\n",
    "s1.discard(3)\n",
    "print(s1)\n",
    "\n",
    "val = s1.pop()\n",
    "print(val)\n",
    "print(s1)\n",
    "\n",
    "#frozen set\n",
    "s1 = {3, 1, 4, 1, 5}\n",
    "s1 = frozenset(s1)\n",
    "print(s1)"
   ]
  },
  {
   "cell_type": "code",
   "execution_count": null,
   "id": "52e06a7d",
   "metadata": {},
   "outputs": [
    {
     "name": "stdout",
     "output_type": "stream",
     "text": [
      "{'g', 'c', 'i'}\n",
      "{'M', 'a'}\n",
      "{'a', 'e', 'c', 'i', 'r', 'k', 'M', 'g'}\n",
      "{'c', 'i', 'r', 'k', 'e', 'g'}\n"
     ]
    }
   ],
   "source": [
    "s1 = set(\"Magic\")\n",
    "s2 = set(\"Marker\")\n",
    "\n",
    "print(s1 - s2)\n",
    "print(s1 & s2)\n",
    "print(s1 | s2)\n",
    "print(s1 ^ s2)"
   ]
  },
  {
   "cell_type": "code",
   "execution_count": 30,
   "id": "a5caf57e",
   "metadata": {},
   "outputs": [
    {
     "name": "stdout",
     "output_type": "stream",
     "text": [
      "True\n"
     ]
    }
   ],
   "source": [
    "#check ele existence\n",
    "#'in' or 'not in' operator\n",
    "\n",
    "#method-2\n",
    "import operator as op\n",
    "\n",
    "s = {1, 2, \"Atom\", \"Molecule\"}\n",
    "print(op.countOf(s, \"Atom\") > 0)"
   ]
  },
  {
   "cell_type": "code",
   "execution_count": 32,
   "id": "f4890d60",
   "metadata": {},
   "outputs": [
    {
     "name": "stdout",
     "output_type": "stream",
     "text": [
      "{1, 2, 3, 4, 5, 6}\n"
     ]
    }
   ],
   "source": [
    "#append using | operator\n",
    "\n",
    "s1 = {1, 2, 3, 4}\n",
    "ele = [5, 6]\n",
    "s1 |= set(ele)\n",
    "print(s1)"
   ]
  },
  {
   "cell_type": "code",
   "execution_count": 34,
   "id": "ec98b13c",
   "metadata": {},
   "outputs": [
    {
     "name": "stdout",
     "output_type": "stream",
     "text": [
      "{1, 2, 3, 4, 5, 6}\n"
     ]
    }
   ],
   "source": [
    "from functools import reduce\n",
    "\n",
    "s1 = {4, 3, 2, 1}\n",
    "ele = [5, 6]\n",
    "\n",
    "res = reduce(lambda x, y: x.union(set([y])), ele, s1)\n",
    "print(res)"
   ]
  },
  {
   "cell_type": "code",
   "execution_count": 35,
   "id": "de6f7a4c",
   "metadata": {},
   "outputs": [
    {
     "name": "stdout",
     "output_type": "stream",
     "text": [
      "{3, 4}\n"
     ]
    }
   ],
   "source": [
    "#remove multiple ele from set\n",
    "#methods - using '-', 'difference_update()', 'intersection', 'filter'\n",
    "s1 = {1, 2, 3, 4}\n",
    "s2 = [1, 2]\n",
    "\n",
    "res = set(filter(lambda x: x not in s2, s1))\n",
    "print(res)"
   ]
  },
  {
   "cell_type": "code",
   "execution_count": 38,
   "id": "447da729",
   "metadata": {},
   "outputs": [
    {
     "name": "stdout",
     "output_type": "stream",
     "text": [
      "[frozenset({1, 4, 5, 6}), frozenset({4, 5, 6})]\n",
      "[frozenset({1, 4, 5, 6}), frozenset({4, 5, 6})]\n"
     ]
    }
   ],
   "source": [
    "#find duplicates\n",
    "\n",
    "from collections import Counter\n",
    "\n",
    "s1 = [{4, 5, 6, 1}, {6, 4, 1, 5}, {1, 2, 6, 4}, {4, 5, 6}, {6, 5, 4}]\n",
    "\n",
    "freq = Counter(frozenset(x) for x in s1)\n",
    "res = []\n",
    "for key, val in freq.items():\n",
    "    if val > 1:\n",
    "        res.append(key)\n",
    "print(res)\n",
    "\n",
    "res2 = [key for key, val in freq.items() if val > 1]\n",
    "print(res2)"
   ]
  },
  {
   "cell_type": "code",
   "execution_count": 43,
   "id": "278b5d8b",
   "metadata": {},
   "outputs": [
    {
     "name": "stdout",
     "output_type": "stream",
     "text": [
      "n e i S p \n",
      "n e i S p \n",
      "n e i S p \n",
      "n e i S p "
     ]
    }
   ],
   "source": [
    "#iterate over a set\n",
    "s = set(\"Spine\")\n",
    "for i in s:\n",
    "    print(i, end= \" \")\n",
    "print()\n",
    "\n",
    "for i in s.__iter__():\n",
    "    print(i, end= \" \")\n",
    "print()\n",
    "\n",
    "for i in iter(s):\n",
    "    print(i, end= \" \")\n",
    "print()\n",
    "\n",
    "for i, v in enumerate(s):\n",
    "    print(v, end= \" \")"
   ]
  },
  {
   "cell_type": "code",
   "execution_count": 45,
   "id": "06218729",
   "metadata": {},
   "outputs": [
    {
     "name": "stdout",
     "output_type": "stream",
     "text": [
      "4 50\n",
      "4 50\n"
     ]
    }
   ],
   "source": [
    "#max and min in Set\n",
    "\n",
    "s1 = {10, 20, 9, 4, 50}\n",
    "print(min(s1), max(s1))\n",
    "\n",
    "sorted_s1 = sorted(s1)\n",
    "print(sorted_s1[0], sorted_s1[-1])"
   ]
  }
 ],
 "metadata": {
  "kernelspec": {
   "display_name": "base",
   "language": "python",
   "name": "python3"
  },
  "language_info": {
   "codemirror_mode": {
    "name": "ipython",
    "version": 3
   },
   "file_extension": ".py",
   "mimetype": "text/x-python",
   "name": "python",
   "nbconvert_exporter": "python",
   "pygments_lexer": "ipython3",
   "version": "3.12.7"
  }
 },
 "nbformat": 4,
 "nbformat_minor": 5
}
