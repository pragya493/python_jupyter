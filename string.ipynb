{
 "cells": [
  {
   "cell_type": "code",
   "execution_count": 57,
   "id": "0e9ca2a3",
   "metadata": {},
   "outputs": [
    {
     "name": "stdout",
     "output_type": "stream",
     "text": [
      "slicing from index-1 till index-3 iss\n",
      "slicing from start till index-2:  Mis\n",
      "slicing at index-2 till end:  ssissippi\n",
      "reversed string:  ippississiM\n",
      "every 2nd char:  Msispi\n",
      "5th from end till 2nd from end:  sipp\n",
      "4th from end till 2nd from end with step of 2:  ip\n"
     ]
    }
   ],
   "source": [
    "#string slicing\n",
    "\n",
    "string = \"Mississippi\"\n",
    "\n",
    "print(\"slicing from index-1 till index-3\",string[1:4])\n",
    "print(\"slicing from start till index-2: \",string[:3])\n",
    "print(\"slicing at index-2 till end: \",string[2:])\n",
    "print(\"reversed string: \",string[::-1])\n",
    "print(\"every 2nd char: \",string[::2])\n",
    "\n",
    "print(\"5th from end till 2nd from end: \",string[-5:-1])\n",
    "print(\"4th from end till 2nd from end with step of 2: \",string[-4:-1:2])\n",
    "\n",
    "#string[:] or string[::] -> returns entire string"
   ]
  },
  {
   "cell_type": "code",
   "execution_count": 49,
   "id": "6f26db92",
   "metadata": {},
   "outputs": [
    {
     "name": "stdout",
     "output_type": "stream",
     "text": [
      "Pissed\n"
     ]
    }
   ],
   "source": [
    "#strings - Immutability - can't be changed after creating\n",
    "#To manipulate strings, we can use concatenation, slicing or formatting\n",
    "\n",
    "str1 = \"Missed\"\n",
    "\n",
    "#str1[0] = 'P' -> not allowed (strings immutable)\n",
    "\n",
    "str2 = \"P\" + str1[1:]\n",
    "\n",
    "#To delete the string\n",
    "#del str1\n",
    "print(str2)\n"
   ]
  },
  {
   "cell_type": "code",
   "execution_count": 61,
   "id": "3dc8f9e2",
   "metadata": {},
   "outputs": [
    {
     "name": "stdout",
     "output_type": "stream",
     "text": [
      "She is a star\n",
      "He is a star\n",
      "length of str1:  13\n",
      "length of str1:  13\n",
      "SHE IS A STAR\n",
      "she is a star\n",
      "Local Market\n",
      "Jurrasic Park\n",
      "Hello Hello Hello \n"
     ]
    }
   ],
   "source": [
    "#Updating a string\n",
    "#as strings are immutable, create new string\n",
    "\n",
    "str1 = \"She is a star\"\n",
    "\n",
    "str2 = str1.replace(\"She\", \"He\")\n",
    "print(str1)\n",
    "print(str2)\n",
    "\n",
    "#usage of len -> len(list), len(tup), len(dict), len(string)\n",
    "print(\"length of str1: \",len(str1))\n",
    "print(\"length of str1: \",str1.count(\"\")-1)\n",
    "\n",
    "print(str1.upper())\n",
    "print(str1.lower())\n",
    "\n",
    "#strip() - removes trailing and leading space\n",
    "str3 = \"   Local Market   \"\n",
    "print(str3.strip())\n",
    "\n",
    "s1 = \"Jurrasic\"\n",
    "s2 = \"Park\"\n",
    "print(s1 + \" \" + s2)\n",
    "\n",
    "print(\"Hello \" * 3)"
   ]
  },
  {
   "cell_type": "code",
   "execution_count": null,
   "id": "c037af60",
   "metadata": {},
   "outputs": [
    {
     "name": "stdout",
     "output_type": "stream",
     "text": [
      "Hello Parker\n",
      "hello Parker\n",
      "True\n",
      "rekraP olleH\n",
      "rekraP olleH\n",
      "rekraP olleH\n"
     ]
    }
   ],
   "source": [
    "#join() method to concat strings\n",
    "\n",
    "words = [\"Hello\", \"Parker\"]\n",
    "output = \" \".join(words)\n",
    "print(output)\n",
    "\n",
    "\n",
    "#convert to mutable and then modify\n",
    "string = \"Hello Parker\"\n",
    "output = list(string)\n",
    "output[0] = 'h'\n",
    "output = \"\".join(output)\n",
    "print(output)\n",
    "\n",
    "\n",
    "#check for substring\n",
    "print(\"Hello\" in string)\n",
    "\n",
    "#method-1\n",
    "#reverse string\n",
    "rev = ''.join(reversed(string))\n",
    "print(rev)\n",
    "\n",
    "\n",
    "#method-2\n",
    "#initialize empty string\n",
    "rev = \"\"\n",
    "for ch in string:\n",
    "    rev = ch + rev\n",
    "print(rev)\n",
    "\n",
    "\n",
    "#method-3\n",
    "rev2 = ''.join([string[i] for i in range(len(string)-1, -1, -1)])\n",
    "print(rev2)\n",
    "\n",
    "\n",
    "#method-4\n",
    "stack = list(string)\n",
    "rev = \"\"\n",
    "\n",
    "#continue until stack is empty\n",
    "while stack:\n",
    "    rev += stack.pop()"
   ]
  },
  {
   "cell_type": "code",
   "execution_count": 64,
   "id": "b8219687",
   "metadata": {},
   "outputs": [
    {
     "name": "stdout",
     "output_type": "stream",
     "text": [
      "True\n",
      "True\n",
      "False\n"
     ]
    }
   ],
   "source": [
    "s1 = \"Apple\"\n",
    "s2 = \"apple\"\n",
    "s3 = \"Banana\"\n",
    "\n",
    "print(s1 < s2) #lexicographically\n",
    "print(s1 < s3) #lexicographically\n",
    "print(s1 == s2)"
   ]
  },
  {
   "cell_type": "code",
   "execution_count": 65,
   "id": "a18a64a7",
   "metadata": {},
   "outputs": [
    {
     "name": "stdout",
     "output_type": "stream",
     "text": [
      "True True\n"
     ]
    }
   ],
   "source": [
    "string = \"This is my home\"\n",
    "print(string.startswith(\"This\"), string.endswith(\"home\"))"
   ]
  },
  {
   "cell_type": "code",
   "execution_count": 4,
   "id": "9a1790d6",
   "metadata": {},
   "outputs": [
    {
     "name": "stdout",
     "output_type": "stream",
     "text": [
      "Hello Good Thank you\n",
      "How are you? I'm fine See you later\n",
      "\n",
      "Hello Good Thank you\n",
      "How are you? I'm fine See you later\n",
      "\n",
      "Hello Good Thank you\n",
      "How are you? I'm fine See you later\n"
     ]
    }
   ],
   "source": [
    "#Horizontal concatenation of multiline strings\n",
    "\n",
    "#Using zip() and List comprehension\n",
    "\n",
    "s1 = '''Hello\n",
    "How are you?'''\n",
    "\n",
    "s2 = '''Good\n",
    "I'm fine'''\n",
    "\n",
    "s3 = '''Thank you\n",
    "See you later'''\n",
    "\n",
    "#split strings into lines\n",
    "s1 = s1.splitlines()\n",
    "s2 = s2.splitlines()\n",
    "s3 = s3.splitlines()\n",
    "\n",
    "#method-1\n",
    "res = [f\"{line1} {line2} {line3}\" for line1, line2, line3 in zip(s1, s2, s3)]\n",
    "for line in res:\n",
    "    print(line)\n",
    "\n",
    "print()\n",
    "\n",
    "#method-2\n",
    "res = map(lambda x: f\"{x[0]} {x[1]} {x[2]}\",zip(s1, s2, s3))\n",
    "for line in res:\n",
    "    print(line)\n",
    "\n",
    "print()\n",
    "\n",
    "#method-3\n",
    "import itertools\n",
    "\n",
    "res = [f\"{line1} {line2} {line3}\" for line1, line2, line3 in itertools.zip_longest(s1, s2, s3)]\n",
    "for line in res:\n",
    "    print(line)\n"
   ]
  },
  {
   "cell_type": "code",
   "execution_count": 11,
   "id": "5003edd5",
   "metadata": {},
   "outputs": [
    {
     "name": "stdout",
     "output_type": "stream",
     "text": [
      "['SaySay', 'HelloHello', 'EveryoneEveryone']\n",
      "['SaySay', 'HelloHello', 'EveryoneEveryone']\n",
      "['SaySay', 'HelloHello', 'EveryoneEveryone']\n"
     ]
    }
   ],
   "source": [
    "#String Repetition\n",
    "\n",
    "#method-1\n",
    "a = [\"Say\", \"Hello\", \"Everyone\"]\n",
    "res = [x* 2 for x in a]\n",
    "\n",
    "print(res)\n",
    "\n",
    "#method-2\n",
    "b = []\n",
    "for x in a:\n",
    "    b.append((x + \"\") * 2)\n",
    "\n",
    "print(b)\n",
    "\n",
    "#method-3\n",
    "res = list(map(lambda x: (x + \"\")*2, a))\n",
    "print(res)"
   ]
  },
  {
   "cell_type": "code",
   "execution_count": 13,
   "id": "0464662e",
   "metadata": {},
   "outputs": [
    {
     "name": "stdout",
     "output_type": "stream",
     "text": [
      "['__add__', '__class__', '__contains__', '__delattr__', '__dir__', '__doc__', '__eq__', '__format__', '__ge__', '__getattribute__', '__getitem__', '__getnewargs__', '__getstate__', '__gt__', '__hash__', '__init__', '__init_subclass__', '__iter__', '__le__', '__len__', '__lt__', '__mod__', '__mul__', '__ne__', '__new__', '__reduce__', '__reduce_ex__', '__repr__', '__rmod__', '__rmul__', '__setattr__', '__sizeof__', '__str__', '__subclasshook__', 'capitalize', 'casefold', 'center', 'count', 'encode', 'endswith', 'expandtabs', 'find', 'format', 'format_map', 'index', 'isalnum', 'isalpha', 'isascii', 'isdecimal', 'isdigit', 'isidentifier', 'islower', 'isnumeric', 'isprintable', 'isspace', 'istitle', 'isupper', 'join', 'ljust', 'lower', 'lstrip', 'maketrans', 'partition', 'removeprefix', 'removesuffix', 'replace', 'rfind', 'rindex', 'rjust', 'rpartition', 'rsplit', 'rstrip', 'split', 'splitlines', 'startswith', 'strip', 'swapcase', 'title', 'translate', 'upper', 'zfill']\n"
     ]
    }
   ],
   "source": [
    "print(dir(str))"
   ]
  }
 ],
 "metadata": {
  "kernelspec": {
   "display_name": "base",
   "language": "python",
   "name": "python3"
  },
  "language_info": {
   "codemirror_mode": {
    "name": "ipython",
    "version": 3
   },
   "file_extension": ".py",
   "mimetype": "text/x-python",
   "name": "python",
   "nbconvert_exporter": "python",
   "pygments_lexer": "ipython3",
   "version": "3.12.7"
  }
 },
 "nbformat": 4,
 "nbformat_minor": 5
}
