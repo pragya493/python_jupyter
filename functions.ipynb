{
 "cells": [
  {
   "cell_type": "code",
   "execution_count": 4,
   "id": "1685c345",
   "metadata": {},
   "outputs": [
    {
     "name": "stdout",
     "output_type": "stream",
     "text": [
      "x:  10\n",
      "y:  50\n",
      "x:  20\n",
      "y:  20\n",
      "x:  100\n",
      "y:  200\n"
     ]
    }
   ],
   "source": [
    "#default argument\n",
    "\n",
    "def f(x, y= 50):\n",
    "    print(\"x: \",x)\n",
    "    print(\"y: \",y)\n",
    "\n",
    "f(10)\n",
    "f(20, 20)\n",
    "f(x=100, y= 200)"
   ]
  },
  {
   "cell_type": "code",
   "execution_count": 10,
   "id": "dda00e8f",
   "metadata": {},
   "outputs": [
    {
     "name": "stdout",
     "output_type": "stream",
     "text": [
      "This is beginning \n",
      "End is start \n",
      "one == End\n",
      "two == is\n",
      "three == start\n"
     ]
    }
   ],
   "source": [
    "#variable length argument\n",
    "\n",
    "def f(*argv):\n",
    "    for arg in argv:\n",
    "        print(arg, end= \" \")\n",
    "\n",
    "f(\"This\", \"is\", \"beginning\")\n",
    "print()\n",
    "\n",
    "#variable keyword arguments\n",
    "def f2(**kwargs):\n",
    "    for key, val in kwargs.items():\n",
    "        print(val, end= \" \")\n",
    "\n",
    "    print()\n",
    "    for key, val in kwargs.items():\n",
    "        print(\"%s == %s\" %(key, val))\n",
    "\n",
    "f2(one = \"End\",two= \"is\", three= \"start\")\n",
    "\n"
   ]
  },
  {
   "cell_type": "code",
   "execution_count": 12,
   "id": "6a590b61",
   "metadata": {},
   "outputs": [
    {
     "name": "stdout",
     "output_type": "stream",
     "text": [
      "125\n",
      "[0, 1, 8, 27, 64]\n"
     ]
    }
   ],
   "source": [
    "#Anonymous function\n",
    "\n",
    "cube = lambda x: x*x*x\n",
    "print(cube(5))\n",
    "\n",
    "#list comprehension using lambda\n",
    "\n",
    "y = [cube(x) for x in range(5)]\n",
    "print(y)"
   ]
  },
  {
   "cell_type": "code",
   "execution_count": null,
   "id": "eeb7b9ca",
   "metadata": {},
   "outputs": [
    {
     "name": "stdout",
     "output_type": "stream",
     "text": [
      "Inside function: This is global var\n",
      "outside function: This is global var\n"
     ]
    }
   ],
   "source": [
    "#Global variable\n",
    "comment = \"This is global var\"\n",
    "\n",
    "def f():\n",
    "    print(f\"Inside function: {comment}\")\n",
    "\n",
    "#global scope\n",
    "f()\n",
    "print(f\"Outside function: {comment}\")\n",
    "\n"
   ]
  },
  {
   "cell_type": "code",
   "execution_count": 15,
   "id": "f302b2ad",
   "metadata": {},
   "outputs": [
    {
     "name": "stdout",
     "output_type": "stream",
     "text": [
      "I'm inside\n",
      "final msg= I'm outside\n"
     ]
    }
   ],
   "source": [
    "#local and global variables\n",
    "\n",
    "def f():\n",
    "    msg = \"I'm inside\"\n",
    "    print(msg)\n",
    "\n",
    "msg = \"I'm outside\"\n",
    "f()\n",
    "print(f\"final msg= {msg}\")"
   ]
  },
  {
   "cell_type": "code",
   "execution_count": 16,
   "id": "98b476a3",
   "metadata": {},
   "outputs": [
    {
     "name": "stdout",
     "output_type": "stream",
     "text": [
      "I'm inside\n",
      "final msg= I'm inside\n"
     ]
    }
   ],
   "source": [
    "def f():\n",
    "    global msg \n",
    "    msg = \"I'm inside\"\n",
    "    print(msg)\n",
    "\n",
    "msg = \"I'm outside\"\n",
    "f()\n",
    "print(f\"final msg= {msg}\")"
   ]
  },
  {
   "cell_type": "code",
   "execution_count": null,
   "id": "f7370531",
   "metadata": {},
   "outputs": [
    {
     "ename": "UnboundLocalError",
     "evalue": "cannot access local variable 'msg' where it is not associated with a value",
     "output_type": "error",
     "traceback": [
      "\u001b[1;31m---------------------------------------------------------------------------\u001b[0m",
      "\u001b[1;31mUnboundLocalError\u001b[0m                         Traceback (most recent call last)",
      "Cell \u001b[1;32mIn[18], line 8\u001b[0m\n\u001b[0;32m      5\u001b[0m     \u001b[38;5;28mprint\u001b[39m(msg)\n\u001b[0;32m      7\u001b[0m msg \u001b[38;5;241m=\u001b[39m \u001b[38;5;124m\"\u001b[39m\u001b[38;5;124mI\u001b[39m\u001b[38;5;124m'\u001b[39m\u001b[38;5;124mm outside\u001b[39m\u001b[38;5;124m\"\u001b[39m\n\u001b[1;32m----> 8\u001b[0m f()\n\u001b[0;32m      9\u001b[0m \u001b[38;5;28mprint\u001b[39m(\u001b[38;5;124mf\u001b[39m\u001b[38;5;124m\"\u001b[39m\u001b[38;5;124mfinal msg= \u001b[39m\u001b[38;5;132;01m{\u001b[39;00mmsg\u001b[38;5;132;01m}\u001b[39;00m\u001b[38;5;124m\"\u001b[39m)\n",
      "Cell \u001b[1;32mIn[18], line 4\u001b[0m, in \u001b[0;36mf\u001b[1;34m()\u001b[0m\n\u001b[0;32m      3\u001b[0m \u001b[38;5;28;01mdef\u001b[39;00m \u001b[38;5;21mf\u001b[39m():\n\u001b[1;32m----> 4\u001b[0m     msg \u001b[38;5;241m=\u001b[39m msg \u001b[38;5;241m+\u001b[39m  \u001b[38;5;124m\"\u001b[39m\u001b[38;5;124mI\u001b[39m\u001b[38;5;124m'\u001b[39m\u001b[38;5;124mm inside\u001b[39m\u001b[38;5;124m\"\u001b[39m\n\u001b[0;32m      5\u001b[0m     \u001b[38;5;28mprint\u001b[39m(msg)\n",
      "\u001b[1;31mUnboundLocalError\u001b[0m: cannot access local variable 'msg' where it is not associated with a value"
     ]
    }
   ],
   "source": [
    "#changing global variable w/o declaring it as global - cause an error\n",
    "\n",
    "def f():\n",
    "    msg = msg +  \"I'm inside\"\n",
    "    print(msg)\n",
    "\n",
    "msg = \"I'm outside\"\n",
    "f()\n",
    "print(f\"final msg= {msg}\")"
   ]
  },
  {
   "cell_type": "code",
   "execution_count": null,
   "id": "d4e22bf7",
   "metadata": {},
   "outputs": [
    {
     "name": "stdout",
     "output_type": "stream",
     "text": [
      "I'm outside I'm inside\n",
      "final msg= I'm outside I'm inside\n"
     ]
    }
   ],
   "source": [
    "#To modify global variable inside func, one must explicitly use \"global\" keyword\n",
    "\n",
    "def f():\n",
    "    global msg\n",
    "    msg = msg +  \"I'm inside\"\n",
    "    print(msg)\n",
    "\n",
    "msg = \"I'm outside \"\n",
    "f()\n",
    "print(f\"final msg= {msg}\")"
   ]
  },
  {
   "cell_type": "code",
   "execution_count": 23,
   "id": "d6d8ab69",
   "metadata": {},
   "outputs": [
    {
     "name": "stdout",
     "output_type": "stream",
     "text": [
      "Inside f: 1\n",
      "a outside:  1\n",
      "Inside g: 2\n",
      "a outside:  1\n",
      "Inside h: 3\n",
      "a outside:  3\n"
     ]
    }
   ],
   "source": [
    "a = 1\n",
    "\n",
    "def f():\n",
    "    print(f\"Inside f: {a}\")\n",
    "\n",
    "def g():\n",
    "    a = 2\n",
    "    print(f\"Inside g: {a}\")\n",
    "\n",
    "def h():\n",
    "    global a\n",
    "    a += 2\n",
    "    print(f\"Inside h: {a}\")\n",
    "\n",
    "f()\n",
    "print(\"a outside: \",a)\n",
    "g()\n",
    "print(\"a outside: \",a)\n",
    "h()\n",
    "print(\"a outside: \",a)\n",
    "\n"
   ]
  },
  {
   "cell_type": "code",
   "execution_count": null,
   "id": "2478f789",
   "metadata": {},
   "outputs": [
    {
     "name": "stdout",
     "output_type": "stream",
     "text": [
      "10\n"
     ]
    }
   ],
   "source": [
    "#enumerate() function - keep track of both index and value of ele\n",
    "\n",
    "str1 = \"Anticipate\"\n",
    "\n",
    "len = 0\n",
    "for i, str1 in enumerate(str1):\n",
    "    len += 1\n",
    "print(len)"
   ]
  }
 ],
 "metadata": {
  "kernelspec": {
   "display_name": "base",
   "language": "python",
   "name": "python3"
  },
  "language_info": {
   "codemirror_mode": {
    "name": "ipython",
    "version": 3
   },
   "file_extension": ".py",
   "mimetype": "text/x-python",
   "name": "python",
   "nbconvert_exporter": "python",
   "pygments_lexer": "ipython3",
   "version": "3.12.7"
  }
 },
 "nbformat": 4,
 "nbformat_minor": 5
}
