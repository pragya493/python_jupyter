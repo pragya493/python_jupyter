{
 "cells": [
  {
   "cell_type": "code",
   "execution_count": 1,
   "id": "96b7c2c6",
   "metadata": {},
   "outputs": [
    {
     "name": "stdout",
     "output_type": "stream",
     "text": [
      "[1, 2, 1, 2, 1, 2, 1, 2, 1, 2]\n",
      "[2, 1, 2, 1, 2, 1, 2, 1, 2]\n",
      "[1, 2, 1, 2, 1, 2, 1, 2]\n",
      "[1, 2, 1, 2, 1, 2, 1]\n",
      "[1, 1, 2, 1, 2, 1]\n",
      "1 1 2 1 2 1 \n",
      "2\n",
      "[1, 4, 9, 16, 25]\n"
     ]
    }
   ],
   "source": [
    "#list constructor\n",
    "\n",
    "a = [1, 2] * 5\n",
    "print(a)\n",
    "\n",
    "#delete ele at index-0\n",
    "del a[0]\n",
    "print(a)\n",
    "\n",
    "#pop val at index-0\n",
    "val = a.pop(0)\n",
    "print(a)\n",
    "\n",
    "#pop - by def. last ele\n",
    "val = a.pop()\n",
    "print(a)\n",
    "\n",
    "#remove first occurence of 2\n",
    "a.remove(2)\n",
    "print(a)\n",
    "\n",
    "#iterating over list\n",
    "for i in a:\n",
    "    print(i, end= \" \")\n",
    "\n",
    "print()\n",
    "\n",
    "#Nested list \n",
    "matrix = [[1, 2, 3],\n",
    "          [4, 5, 6],\n",
    "          [7, 8, 9]]\n",
    "print(matrix[0][1])\n",
    "\n",
    "sq = [x ** 2 for x in range(1, 6)]\n",
    "print(sq)"
   ]
  }
 ],
 "metadata": {
  "kernelspec": {
   "display_name": "base",
   "language": "python",
   "name": "python3"
  },
  "language_info": {
   "codemirror_mode": {
    "name": "ipython",
    "version": 3
   },
   "file_extension": ".py",
   "mimetype": "text/x-python",
   "name": "python",
   "nbconvert_exporter": "python",
   "pygments_lexer": "ipython3",
   "version": "3.12.7"
  }
 },
 "nbformat": 4,
 "nbformat_minor": 5
}
