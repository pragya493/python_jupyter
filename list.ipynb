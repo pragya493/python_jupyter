{
 "cells": [
  {
   "cell_type": "code",
   "execution_count": 1,
   "id": "96b7c2c6",
   "metadata": {},
   "outputs": [
    {
     "name": "stdout",
     "output_type": "stream",
     "text": [
      "[1, 2, 1, 2, 1, 2, 1, 2, 1, 2]\n",
      "[2, 1, 2, 1, 2, 1, 2, 1, 2]\n",
      "[1, 2, 1, 2, 1, 2, 1, 2]\n",
      "[1, 2, 1, 2, 1, 2, 1]\n",
      "[1, 1, 2, 1, 2, 1]\n",
      "1 1 2 1 2 1 \n",
      "2\n",
      "[1, 4, 9, 16, 25]\n"
     ]
    }
   ],
   "source": [
    "#list constructor\n",
    "\n",
    "a = [1, 2] * 5\n",
    "print(a)\n",
    "\n",
    "#delete ele at index-0\n",
    "del a[0]\n",
    "print(a)\n",
    "\n",
    "#pop val at index-0\n",
    "val = a.pop(0)\n",
    "print(a)\n",
    "\n",
    "#pop - by def. last ele\n",
    "val = a.pop()\n",
    "print(a)\n",
    "\n",
    "#remove first occurence of 2\n",
    "a.remove(2)\n",
    "print(a)\n",
    "\n",
    "#iterating over list\n",
    "for i in a:\n",
    "    print(i, end= \" \")\n",
    "\n",
    "print()\n",
    "\n",
    "#Nested list \n",
    "matrix = [[1, 2, 3],\n",
    "          [4, 5, 6],\n",
    "          [7, 8, 9]]\n",
    "print(matrix[0][1])\n",
    "\n",
    "sq = [x ** 2 for x in range(1, 6)]\n",
    "print(sq)"
   ]
  },
  {
   "cell_type": "code",
   "execution_count": 3,
   "id": "cea259b1",
   "metadata": {},
   "outputs": [
    {
     "name": "stdout",
     "output_type": "stream",
     "text": [
      "['Bread', 'Butter', ['Apple', 'Mango']]\n",
      "['Bread', 'Butter', ['Apple', 'Mango'], 'Jam']\n",
      "['Bread', 'Butter', 'Milk', ['Banana', 'Apple', 'Mango'], 'Jam']\n",
      "['Bread', 'Butter', 'Milk', ['Banana', 'Apple', 'Mango'], 'Jam', 'Dosa', 'Idli']\n",
      "Idli\n",
      "['Bread', 'Butter', ['Banana', 'Apple', 'Mango'], 'Jam', 'Dosa', 'Idli']\n",
      "['Bread', 'Butter', ['Banana', 'Apple', 'Mango'], 'Jam', 'Dosa']\n",
      "['Bread', 'Butter', ['Banana', 'Apple', 'Mango'], 'Jam', 'Milk']\n",
      "['Butter', ['Banana', 'Apple', 'Mango'], 'Jam', 'Milk']\n"
     ]
    }
   ],
   "source": [
    "items = ['Bread', 'Butter', ['Apple', 'Mango']]\n",
    "print(items)\n",
    "\n",
    "items.append('Jam')\n",
    "print(items)\n",
    "\n",
    "items[2].insert(0, 'Banana')\n",
    "items.insert(2, 'Milk')\n",
    "print(items)\n",
    "\n",
    "items.extend(['Dosa', 'Idli'])\n",
    "print(items)\n",
    "\n",
    "print(items[-1])\n",
    "\n",
    "items.remove('Milk')\n",
    "print(items)\n",
    "\n",
    "items.pop()\n",
    "print(items)\n",
    "\n",
    "items[-1] = \"Milk\"\n",
    "print(items)\n",
    "\n",
    "val = items.pop(0)\n",
    "print(items)"
   ]
  },
  {
   "cell_type": "code",
   "execution_count": 8,
   "id": "df40968d",
   "metadata": {},
   "outputs": [
    {
     "name": "stdout",
     "output_type": "stream",
     "text": [
      "[0, 1, 2, 3, 4]\n",
      "[0, 1, 2, 3, 4]\n",
      "[1, 2, 3, 4, 5]\n"
     ]
    }
   ],
   "source": [
    "list1 = list(range(0,5))\n",
    "print(list1)\n",
    "\n",
    "list2 = [i for i in range(0,5)]\n",
    "print(list2)\n",
    "\n",
    "\n",
    "import itertools\n",
    "list3 = list(itertools.islice(itertools.count(1), 5))\n",
    "print(list3)"
   ]
  },
  {
   "cell_type": "code",
   "execution_count": 13,
   "id": "b427b21d",
   "metadata": {},
   "outputs": [
    {
     "name": "stdout",
     "output_type": "stream",
     "text": [
      "0 10\n",
      "1 20\n",
      "2 30\n",
      "3 40\n",
      "0 (10, 'a')\n",
      "1 (20, 'b')\n",
      "2 (30, 'c')\n",
      "3 (40, 'd')\n",
      "[(0, 10), (1, 20), (2, 30), (3, 40)]\n"
     ]
    }
   ],
   "source": [
    "a = [10, 20, 30, 40]\n",
    "\n",
    "for i, val in enumerate(a):\n",
    "    print(i, val)\n",
    "\n",
    "b = ['a', 'b', 'c', 'd']\n",
    "\n",
    "for i, val in zip(range(len(a)), zip(a, b)):\n",
    "    print(i, val)\n",
    "\n",
    "print([(i, a[i]) for i in range(len(a))])"
   ]
  },
  {
   "cell_type": "code",
   "execution_count": 16,
   "id": "b099df56",
   "metadata": {},
   "outputs": [
    {
     "name": "stdout",
     "output_type": "stream",
     "text": [
      "['b', 'd', 'f']\n",
      "['b', 'd', 'f']\n",
      "('b', 'd', 'f')\n"
     ]
    }
   ],
   "source": [
    "#Accessing ele at given list of indexes\n",
    "\n",
    "a = [\"a\", \"b\", \"c\", \"d\", \"e\", \"f\"]\n",
    "b = [1, 3, 5]\n",
    "\n",
    "res = [a[i] for i in b]\n",
    "print(res)\n",
    "\n",
    "res = list(map(lambda i: a[i], b))\n",
    "print(res)\n",
    "\n",
    "import operator\n",
    "\n",
    "getter = operator.itemgetter(*b)\n",
    "res = getter(a)\n",
    "print(res)"
   ]
  },
  {
   "cell_type": "code",
   "execution_count": 19,
   "id": "eba4e1f3",
   "metadata": {},
   "outputs": [
    {
     "name": "stdout",
     "output_type": "stream",
     "text": [
      "[1, 2, 3]\n",
      "[0, 1, 2, 3, 4, 5, 6, 7, 8]\n",
      "[0, 1, 2, 3, 4, 5, 6, 7, 8]\n",
      "[2, 3, 4, 5, 6, 7, 8]\n",
      "[0, 1, 2]\n",
      "[0, 2, 4, 6, 8]\n",
      "[7, 8]\n",
      "[0, 1, 2, 3, 4, 5]\n",
      "[1, 3, 5, 7]\n",
      "[8, 7, 6, 5, 4, 3, 2, 1, 0]\n"
     ]
    }
   ],
   "source": [
    "a = [0, 1, 2, 3, 4, 5, 6, 7, 8]\n",
    "print(a[1:4])\n",
    "print(a[::])\n",
    "print(a[:])\n",
    "print(a[2:])\n",
    "print(a[:3])\n",
    "print(a[::2])\n",
    "print(a[-2:])\n",
    "print(a[:-3])\n",
    "print(a[-8:-1:2])\n",
    "print(a[::-1])\n"
   ]
  },
  {
   "cell_type": "code",
   "execution_count": null,
   "id": "161c1d00",
   "metadata": {},
   "outputs": [
    {
     "name": "stdout",
     "output_type": "stream",
     "text": [
      "1 2 3 4 5 6 7 \n",
      "[1, 2, 3, 4, 5, 6, 7]\n",
      "[1, 2, 3, 4, 5, 6, 7]\n",
      "1, 2, 3, 4, 5, 6, 7, \n",
      " [[1, 2], [3, 4], [5, 6, 7]]\n",
      "5 6 7 3 4 1 2 "
     ]
    }
   ],
   "source": [
    "#Iterate through nested list\n",
    "\n",
    "a = [[1, 2], [3, 4], [5, 6, 7]]\n",
    "\n",
    "for sublist in a:\n",
    "    for item in sublist:\n",
    "        print(item, end= \" \")\n",
    "print()\n",
    "\n",
    "#list comprehension\n",
    "items = [item for sublist in a for item in sublist]\n",
    "print(items)\n",
    "\n",
    "#itertools\n",
    "import itertools\n",
    "b = itertools.chain(*a)\n",
    "print([i for i in b])\n",
    "\n",
    "\n",
    "#Recursive\n",
    "def iter_rec(a):\n",
    "    for e in a:\n",
    "        #check if ele is a list\n",
    "        if isinstance(e, list):\n",
    "            #rec for inner list\n",
    "            iter_rec(e)\n",
    "        else:\n",
    "            print(e, end=\", \")\n",
    "iter_rec(a)\n",
    "\n",
    "#Using Stack(Iterative approach)\n",
    "def iter_stack(a):\n",
    "    stack = a\n",
    "\n",
    "    while stack:\n",
    "        cur = stack.pop()\n",
    "        for item in cur:\n",
    "            if isinstance(item, list):\n",
    "                stack.append(item)\n",
    "            else:\n",
    "                print(item, end= \" \")\n",
    "print(\"\\n\",a)\n",
    "iter_stack(a)"
   ]
  },
  {
   "cell_type": "code",
   "execution_count": 37,
   "id": "997ecc7b",
   "metadata": {},
   "outputs": [
    {
     "name": "stdout",
     "output_type": "stream",
     "text": [
      "1 R 10\n",
      "2 G 20\n",
      "3 B 30\n",
      "(1, 'R', 10)\n",
      "(2, 'G', 20)\n",
      "(3, 'B', 30)\n",
      "1 R 10\n",
      "2 G 20\n",
      "3 B 30\n"
     ]
    }
   ],
   "source": [
    "#Iterate over multiple lists simult.\n",
    "\n",
    "num = [1, 2, 3]\n",
    "color = ['R', 'G', 'B']\n",
    "code = [10, 20, 30]\n",
    "\n",
    "#using zip()\n",
    "for a, b, c in zip(num, color, code):\n",
    "    print(a, b, c)\n",
    "\n",
    "#using itertools.zip_longest()\n",
    "import itertools\n",
    "\n",
    "for a, b, c in itertools.zip_longest(num, color, code):\n",
    "    print((a, b, c))\n",
    "\n",
    "#using enumerate()\n",
    "\n",
    "for i, val in enumerate(num):\n",
    "    print(val, color[i], code[i])\n"
   ]
  },
  {
   "cell_type": "code",
   "execution_count": 40,
   "id": "d915bbcc",
   "metadata": {},
   "outputs": [
    {
     "name": "stdout",
     "output_type": "stream",
     "text": [
      "[3, 5, 1]\n",
      "[3, 5, 1]\n",
      "[3, 5, 1]\n"
     ]
    }
   ],
   "source": [
    "a = [1, 2, 3, 4, 5, 6]\n",
    "b = [2, 4, 0]\n",
    "\n",
    "print([a[i] for i in b])\n",
    "\n",
    "print(list(map(a.__getitem__, b)))\n",
    "\n",
    "from operator import itemgetter\n",
    "print(list(itemgetter(*b)(a)))"
   ]
  },
  {
   "cell_type": "code",
   "execution_count": 44,
   "id": "2198fa14",
   "metadata": {},
   "outputs": [
    {
     "name": "stdout",
     "output_type": "stream",
     "text": [
      "String found at index 3\n",
      "String found!\n",
      "String found!\n"
     ]
    }
   ],
   "source": [
    "#Search string in a list\n",
    "\n",
    "a = ['Daily', 'Affirmation', 'Pray', 'Gratitude']\n",
    "\n",
    "try:\n",
    "    ind = a.index('Gratitude')\n",
    "    print(\"String found at index\", ind)\n",
    "except ValueError:\n",
    "    print(\"String not found!\")\n",
    "\n",
    "#list comprehension\n",
    "found = [item for item in a if item == 'Pray']\n",
    "if found:\n",
    "    print(\"String found!\")\n",
    "else:\n",
    "    print(\"Not found!\")\n",
    "\n",
    "#using filter()\n",
    "\n",
    "found = list(filter(lambda x: x == 'Daily', a))\n",
    "if found:\n",
    "    print(\"String found!\")\n",
    "else:\n",
    "    print(\"Not found!\")"
   ]
  },
  {
   "cell_type": "code",
   "execution_count": 53,
   "id": "0bc4448f",
   "metadata": {},
   "outputs": [
    {
     "name": "stdout",
     "output_type": "stream",
     "text": [
      "[2, 5, 7]\n",
      "2\n",
      "[(2, 3)]\n",
      "2\n",
      "2\n"
     ]
    }
   ],
   "source": [
    "a = [2, 4, 6, 1, 3, 6, 0, 6]\n",
    "ind = [i for i, val in enumerate(a) if val == 6]\n",
    "print(ind)\n",
    "\n",
    "#find most frequent\n",
    "a = [2, 1, 2, 2, 1, 3]\n",
    "#find highest count of occurence of each ele in set\n",
    "print(max(set(a), key = a.count))\n",
    "\n",
    "\n",
    "#using Counter()\n",
    "from collections import Counter\n",
    "count = Counter(a)\n",
    "print(count.most_common(1))\n",
    "print(count.most_common(1)[0][0])\n",
    "\n",
    "#using statistics\n",
    "from statistics import mode\n",
    "print(mode(a))"
   ]
  },
  {
   "cell_type": "code",
   "execution_count": 59,
   "id": "4a47058e",
   "metadata": {},
   "outputs": [
    {
     "name": "stdout",
     "output_type": "stream",
     "text": [
      "[20, 40, 60]\n",
      "[20, 40, 60]\n",
      "[20, 40, 60]\n",
      "[20, 40, 60]\n"
     ]
    }
   ],
   "source": [
    "#Remove multiple ele from list\n",
    "\n",
    "a = [10, 20, 30, 10, 40, 50, 60]\n",
    "b = [10, 30, 50]\n",
    "\n",
    "res = []\n",
    "for val in a:\n",
    "    if val not in b:\n",
    "        res.append(val)\n",
    "print(res)\n",
    "\n",
    "#list comprehension\n",
    "res = [ele for ele in a if ele not in b]\n",
    "print(res)\n",
    "\n",
    "#remove()\n",
    "for ele in b:\n",
    "    while ele in a:\n",
    "        a.remove(ele)\n",
    "print(a)\n",
    "\n",
    "#filter()\n",
    "res = list(filter(lambda x: x not in b, a))\n",
    "print(res)"
   ]
  },
  {
   "cell_type": "code",
   "execution_count": 63,
   "id": "94c57afc",
   "metadata": {},
   "outputs": [
    {
     "name": "stdout",
     "output_type": "stream",
     "text": [
      "[1, 2, 3, 4, 5, 6, 7]\n",
      "[1, 2, 3, 4, 5, 6, 7]\n",
      "[1, 2, 3, 4, 5, 3, 2, 1, 6, 7]\n",
      "[1, 2, 3, 4, 5, 6, 7]\n"
     ]
    }
   ],
   "source": [
    "a = [1, 2, 3, 4, 5]\n",
    "b = [3, 2, 1, 6, 7]\n",
    "\n",
    "res = list(set(a).union(b))\n",
    "print(res)\n",
    "\n",
    "res = list(set(a) | set(b))\n",
    "print(res)\n",
    "\n",
    "res = a+b\n",
    "print(res)\n",
    "\n",
    "res = list(set([x for x in a+b]))\n",
    "print(res)"
   ]
  },
  {
   "cell_type": "code",
   "execution_count": 72,
   "id": "ca75427c",
   "metadata": {},
   "outputs": [
    {
     "name": "stdout",
     "output_type": "stream",
     "text": [
      "[1, 'A', 2, 'B', 3, 'C']\n",
      "[1, 'A', 2, 'B', 3, 'C']\n"
     ]
    }
   ],
   "source": [
    "a = [1, 2, 3]\n",
    "b = ['A', 'B', 'C']\n",
    "\n",
    "res = [sub[item] for item in range(len(b)) for sub in [a,b]]\n",
    "print(res)\n",
    "\n",
    "from operator import add\n",
    "from functools import reduce\n",
    "\n",
    "res = list(reduce(operator.add, zip(a, b)))\n",
    "print(res)\n",
    "        "
   ]
  },
  {
   "cell_type": "code",
   "execution_count": 74,
   "id": "9dc708cd",
   "metadata": {},
   "outputs": [
    {
     "name": "stdout",
     "output_type": "stream",
     "text": [
      "['soup', 'for', 'soul']\n"
     ]
    }
   ],
   "source": [
    "a = list(\"soupforsoul\")\n",
    "pos = [(0,4), (4,7), (7,11)]\n",
    "res = [''.join(a[start:end]) for start, end in pos]\n",
    "print(res)"
   ]
  },
  {
   "cell_type": "code",
   "execution_count": 78,
   "id": "c7d01c2d",
   "metadata": {},
   "outputs": [
    {
     "name": "stdout",
     "output_type": "stream",
     "text": [
      "overthinking is not good for growth\n",
      "overthinking is not good for growth\n",
      "overthinking is not good for growth\n"
     ]
    }
   ],
   "source": [
    "#concat all\n",
    "\n",
    "a = [('overthinking'), (' is', ' not'), (' good', ' for', ' growth')]\n",
    "import itertools\n",
    "\n",
    "res = \"\".join(itertools.chain(*a))\n",
    "print(res)\n",
    "\n",
    "res = \"\".join([word for sub in a for word in sub])\n",
    "print(res)\n",
    "\n",
    "from functools import reduce\n",
    "res = reduce(lambda x, y: x + y, (word for sub in a for word in sub))\n",
    "print(res)"
   ]
  },
  {
   "cell_type": "code",
   "execution_count": 83,
   "id": "fe4fa02b",
   "metadata": {},
   "outputs": [
    {
     "name": "stdout",
     "output_type": "stream",
     "text": [
      "The sky full of stars <class 'str'>\n"
     ]
    }
   ],
   "source": [
    "li = ['The', 'sky', 'full', 'of', 'stars']\n",
    "#li = [1, 2, 3, 4, 5]\n",
    "res = ' '.join(map(str, li))\n",
    "print(res, type(res))"
   ]
  },
  {
   "cell_type": "code",
   "execution_count": 88,
   "id": "189217d7",
   "metadata": {},
   "outputs": [
    {
     "name": "stdout",
     "output_type": "stream",
     "text": [
      "[[1, 2, 3, 11, 12], [4, 5, 6, 14, 15], [7, 8, 18]]\n",
      "[[1, 2, 3, 11, 12], [4, 5, 6, 14, 15], [7, 8, 18]]\n",
      "[[1, 2, 3, 11, 12], [4, 5, 6, 14, 15], [7, 8, 18]]\n",
      "[[1, 2, 3, 11, 12], [4, 5, 6, 14, 15], [7, 8, 18]]\n"
     ]
    }
   ],
   "source": [
    "a = [[1, 2, 3], [4, 5, 6], [7, 8]]\n",
    "b = [[11, 12], [14, 15], [18]]\n",
    "\n",
    "res = [x + y for x, y in zip(a, b)]\n",
    "print(res)\n",
    "\n",
    "res = list(map(lambda x: x[0] + x[1], zip(a,b)))\n",
    "print(res)\n",
    "\n",
    "from itertools import chain\n",
    "res = [list(chain(x, y)) for x, y in zip(a,b)]\n",
    "print(res)\n",
    "\n",
    "for i in range(len(a)):\n",
    "    a[i].extend(b[i])\n",
    "print(a)\n"
   ]
  },
  {
   "cell_type": "code",
   "execution_count": 93,
   "id": "ec7582a9",
   "metadata": {},
   "outputs": [
    {
     "name": "stdout",
     "output_type": "stream",
     "text": [
      "[1, 2, 3, 4, 5, 6]\n",
      "[1, 2, 3, 4, 5, 6]\n",
      "['14', '25', '36']\n",
      "['14', '25', '36']\n"
     ]
    }
   ],
   "source": [
    "a = [1, 2, 3]\n",
    "b = [4, 5, 6]\n",
    "\n",
    "res = [*a, *b]\n",
    "print(res)\n",
    "\n",
    "from itertools import chain\n",
    "res = list(chain(a, b))\n",
    "print(res)\n",
    "\n",
    "res = [str(x) + str(y) for x, y in zip(a, b)]\n",
    "print(res)\n",
    "\n",
    "res = list(map(lambda x, y: str(x)+ str(y), a, b))\n",
    "print(res)\n"
   ]
  },
  {
   "cell_type": "code",
   "execution_count": 107,
   "id": "3d9c3b2d",
   "metadata": {},
   "outputs": [
    {
     "name": "stdout",
     "output_type": "stream",
     "text": [
      "['mango', 'banana', 'pineapple', 'apple']\n",
      "['mango', 'banana', 'pineapple', 'apple']\n",
      "['pineapple', 'banana', 'apple', 'mango']\n",
      "['apple', 'mango', 'banana', 'pineapple']\n"
     ]
    }
   ],
   "source": [
    "#sort val of first list using second list\n",
    "\n",
    "t1 = ['apple', 'banana', 'mango', 'pineapple']\n",
    "t2 = [4, 2, 1, 3]\n",
    "\n",
    "res = [val for _,val in sorted(zip(t2, t1))]\n",
    "print(res)\n",
    "\n",
    "res = sorted(t1, key= lambda x: t2[t1.index(x)])\n",
    "print(res)\n",
    "\n",
    "#sort in descending order of length\n",
    "res = sorted(t1, key=len, reverse= True)\n",
    "print(res)\n",
    "\n",
    "#sort in ascending order of length\n",
    "res = sorted(t1, key=len, reverse= False)\n",
    "print(res)"
   ]
  },
  {
   "cell_type": "code",
   "execution_count": 98,
   "id": "36068466",
   "metadata": {},
   "outputs": [
    {
     "name": "stdout",
     "output_type": "stream",
     "text": [
      "[1, 2, 3, 4, 5]\n",
      "[1, 2, 3, 4, 5]\n",
      "[1, 2, 3, 4, 5]\n",
      "[[1, 2], [3, 4], [5, 6]]\n"
     ]
    }
   ],
   "source": [
    "#copy/clone a list\n",
    "\n",
    "a = [1, 2, 3, 4, 5]\n",
    "\n",
    "b = a.copy()\n",
    "print(b)\n",
    "\n",
    "b = a[:]\n",
    "print(b)\n",
    "\n",
    "b = list(a)\n",
    "print(b)\n",
    "\n",
    "#nested lists\n",
    "import copy\n",
    "a = [[1,2], [3,4], [5,6]]\n",
    "b = copy.deepcopy(a)\n",
    "print(b)"
   ]
  },
  {
   "cell_type": "code",
   "execution_count": null,
   "id": "bf591890",
   "metadata": {},
   "outputs": [
    {
     "name": "stdout",
     "output_type": "stream",
     "text": [
      "[1, 2, 3, 4, 5, 6]\n",
      "[1, 2, 3, 4, 5, 6]\n"
     ]
    }
   ],
   "source": [
    "import heapq\n",
    "\n",
    "a = [1, 3, 5]\n",
    "b = [2, 4, 6]\n",
    "\n",
    "res = list(heapq.merge(a, b))\n",
    "print(res)\n",
    "\n",
    "from itertools import chain\n",
    "res = sorted(chain(a, b))\n",
    "print(res)"
   ]
  },
  {
   "cell_type": "code",
   "execution_count": null,
   "id": "a9885776",
   "metadata": {},
   "outputs": [
    {
     "name": "stdout",
     "output_type": "stream",
     "text": [
      "True\n"
     ]
    }
   ],
   "source": [
    "a = [1, 4, 7]\n",
    "b = [1, 4, 7]\n",
    "\n",
    "res = all(x == y for x, y in zip(a, b))\n",
    "print(res)"
   ]
  },
  {
   "cell_type": "code",
   "execution_count": 105,
   "id": "5e94015d",
   "metadata": {},
   "outputs": [
    {
     "name": "stdout",
     "output_type": "stream",
     "text": [
      "[1, 2, 3, 5]\n",
      "[1, 2, 5]\n"
     ]
    }
   ],
   "source": [
    "a = [1, 2, 3, 4, 5, 3]\n",
    "b = [3, 4, 6, 7]\n",
    "\n",
    "#subtract the counts\n",
    "from collections import Counter\n",
    "c = Counter(a) - Counter(b)\n",
    "\n",
    "res = list(c.elements())\n",
    "print(res)\n",
    "\n",
    "res = list(filter(lambda x: x not in b, a))\n",
    "print(res)"
   ]
  },
  {
   "cell_type": "code",
   "execution_count": null,
   "id": "7f2da75d",
   "metadata": {},
   "outputs": [
    {
     "name": "stdout",
     "output_type": "stream",
     "text": [
      "1 2 3 4\n"
     ]
    }
   ],
   "source": [
    "#unpacking\n",
    "t1 = [1, [2, 3], 4]\n",
    "\n",
    "a, (b, c), d = t1\n",
    "print(a, b, c, d)"
   ]
  },
  {
   "cell_type": "code",
   "execution_count": 109,
   "id": "7b2eb712",
   "metadata": {},
   "outputs": [
    {
     "name": "stdout",
     "output_type": "stream",
     "text": [
      "[1, 2, 3, 4]\n"
     ]
    }
   ],
   "source": [
    "#nested list comprehension with slicing\n",
    "\n",
    "a = [[1, 2], [3, 4], [5, 6]]\n",
    "\n",
    "b = [y for row in a[:2] for y in row]\n",
    "print(b)"
   ]
  },
  {
   "cell_type": "code",
   "execution_count": 122,
   "id": "f785c5c5",
   "metadata": {},
   "outputs": [
    {
     "name": "stdout",
     "output_type": "stream",
     "text": [
      "[7, 6, 5, 4, 3, 2, 1]\n",
      "[7, 6, 5, 4, 3, 2, 1]\n",
      "[7, 6, 5, 4, 3, 2, 1]\n",
      "[1, 2, 6, 5, 4, 3, 7]\n",
      "[6, 5, 4, 3]\n"
     ]
    }
   ],
   "source": [
    "#reversing a list\n",
    "\n",
    "a = [1, 2, 3, 4, 5, 6, 7]\n",
    "a.reverse()\n",
    "print(a)\n",
    "\n",
    "#reversing a list using slicing\n",
    "a = [1, 2, 3, 4, 5, 6, 7]\n",
    "res = a[::-1]\n",
    "print(res)\n",
    "\n",
    "#reversing a list using reversed()\n",
    "res = list(reversed(a))\n",
    "print(res)\n",
    "\n",
    "#In-place reverse\n",
    "s, e = 2, 5\n",
    "\n",
    "while s < e:\n",
    "    #swap elements at indices s and e\n",
    "    a[s], a[e] = a[e], a[s]\n",
    "    s += 1\n",
    "    e -= 1\n",
    "print(a)\n",
    "\n",
    "#list comprehension for in-place reverse\n",
    "a = [1, 2, 3, 4, 5, 6, 7]\n",
    "s, e = 2, 5\n",
    "rev = [a[i] for i in range(e, s - 1, -1)]\n",
    "print(rev)"
   ]
  },
  {
   "cell_type": "code",
   "execution_count": null,
   "id": "79355d83",
   "metadata": {},
   "outputs": [
    {
     "name": "stdout",
     "output_type": "stream",
     "text": [
      "[[0, 1, 2, 3, 4], [0, 1, 2, 3, 4], [0, 1, 2, 3, 4], [0, 1, 2, 3, 4], [0, 1, 2, 3, 4]]\n"
     ]
    }
   ],
   "source": [
    "#Nested list comprehension\n",
    "#5x5 matrix\n",
    "\n",
    "m = []\n",
    "for i in range(5):\n",
    "    m.append([])\n",
    "    for j in range(5):\n",
    "        m[i].append(j)\n",
    "print(m)\n",
    "\n",
    "#list comprehension\n",
    "m = [[c for c in range(5)] for r in range(5)]"
   ]
  },
  {
   "cell_type": "code",
   "execution_count": 124,
   "id": "be8af1a0",
   "metadata": {},
   "outputs": [
    {
     "name": "stdout",
     "output_type": "stream",
     "text": [
      "[1, 3, 5, 7, 9]\n"
     ]
    }
   ],
   "source": [
    "m = [[1, 2, 3], [4, 5, 6], [7, 8, 9]]\n",
    "odds = [ele for row in m for ele in row if ele % 2 != 0]\n",
    "print(odds)"
   ]
  },
  {
   "cell_type": "code",
   "execution_count": 125,
   "id": "28082d3e",
   "metadata": {},
   "outputs": [
    {
     "name": "stdout",
     "output_type": "stream",
     "text": [
      "[['Rose', 'Lily', 'Tulip'], ['Almond', 'Walnut', 'Pecan'], ['Citrus', 'Apple', 'Banana']]\n"
     ]
    }
   ],
   "source": [
    "m = [[\"rose\", \"lily\", \"tulip\"],\n",
    "     [\"almond\", \"walnut\", \"pecan\"],\n",
    "     [\"citrus\", \"apple\", \"banana\"]]\n",
    "\n",
    "m = [[data.capitalize() for data in row] for row in m]\n",
    "print(m)"
   ]
  },
  {
   "cell_type": "code",
   "execution_count": 129,
   "id": "0886e984",
   "metadata": {},
   "outputs": [
    {
     "name": "stdout",
     "output_type": "stream",
     "text": [
      "True\n"
     ]
    }
   ],
   "source": [
    "li = [[1, 2, 3], 4, 5, (6, 7)]\n",
    "res = any(isinstance(sub, (list, tuple, set)) for sub in li)\n",
    "print(res)\n"
   ]
  },
  {
   "cell_type": "code",
   "execution_count": 132,
   "id": "117b3471",
   "metadata": {},
   "outputs": [
    {
     "name": "stdout",
     "output_type": "stream",
     "text": [
      "[[1, 2], [3, 4], [5, 6]]\n",
      "[[1, 2], [3, 4], [5, 6]]\n",
      "[[1, 2], [3, 4], [5, 6]]\n"
     ]
    }
   ],
   "source": [
    "#copy nested list\n",
    "\n",
    "a = [[1, 2], [3, 4], [5, 6]]\n",
    "b = []\n",
    "\n",
    "for sub in a:\n",
    "    b.append(sub[:])\n",
    "print(b)\n",
    "\n",
    "#copy nested list using list comprehension\n",
    "b = [sub[:] for sub in a]\n",
    "print(b)\n",
    "\n",
    "#uisng map\n",
    "b = list(map(list,a))\n",
    "print(b)"
   ]
  },
  {
   "cell_type": "code",
   "execution_count": 137,
   "id": "c8a1f43d",
   "metadata": {},
   "outputs": [
    {
     "name": "stdout",
     "output_type": "stream",
     "text": [
      "[1, 3, 10, 30]\n",
      "[2, 4, 20, 40]\n",
      "[44, 66]\n",
      "[44, 66]\n"
     ]
    }
   ],
   "source": [
    "#split nested list\n",
    "\n",
    "a = [[1, 2], [3, 4], [10, 20], [30, 40]]\n",
    "res1, res2 = map(list, zip(*a))\n",
    "\n",
    "print(res1)\n",
    "print(res2)\n",
    "\n",
    "#column wise sum\n",
    "res = [sum(i) for i in zip(*a)]\n",
    "print(res)\n",
    "\n",
    "res = list(map(sum, zip(*a)))\n",
    "print(res)\n"
   ]
  },
  {
   "cell_type": "code",
   "execution_count": 135,
   "id": "e1b9aad5",
   "metadata": {},
   "outputs": [
    {
     "name": "stdout",
     "output_type": "stream",
     "text": [
      "[(1,), (2,), (3,), (4,), (10,), (20,), (30,), (40,), (50,)]\n",
      "[(1,), (2,), (3,), (4,), (10,), (20,), (30,), (40,), (50,)]\n"
     ]
    }
   ],
   "source": [
    "#nested list to single value tuple\n",
    "\n",
    "a = [[1, 2], [3, 4], [10, 20], [30, 40, 50]]\n",
    "\n",
    "res = [(ele, ) for sub in a for ele in sub]\n",
    "print(res)\n",
    "\n",
    "#using map and chain\n",
    "from itertools import chain\n",
    "res = list(map(lambda x: (x,), chain(*a)))\n",
    "print(res)"
   ]
  },
  {
   "cell_type": "code",
   "execution_count": 141,
   "id": "6577769a",
   "metadata": {},
   "outputs": [
    {
     "name": "stdout",
     "output_type": "stream",
     "text": [
      "[[4, 5], [7, 8]]\n",
      "[[4, 5], [7, 8]]\n",
      "[[4, 5], [7, 8]]\n"
     ]
    }
   ],
   "source": [
    "#intersection of nested lists\n",
    "\n",
    "a = [[1,2], [4, 5], [7, 8]]\n",
    "b = [[2, 4], [4, 5], [7, 8]]\n",
    "\n",
    "res = [c for c in a if c in b]\n",
    "print(res)\n",
    "\n",
    "res = list(filter(lambda x: x in b, a))\n",
    "print(res)\n",
    "\n",
    "res = [list(item) for item in set(map(tuple,a)) & set(map(tuple,b))]\n",
    "print(res)"
   ]
  },
  {
   "cell_type": "code",
   "execution_count": 147,
   "id": "d49baad8",
   "metadata": {},
   "outputs": [
    {
     "name": "stdout",
     "output_type": "stream",
     "text": [
      "True\n",
      "True\n",
      "True\n"
     ]
    }
   ],
   "source": [
    "#check if nested list is subset of another nested list\n",
    "\n",
    "a = [[1, 2, 3], [4, 5], [6, 7]]\n",
    "b = [[4, 5], [6, 7]]\n",
    "\n",
    "x = {tuple(x) for x in a}\n",
    "y = {tuple(x) for x in b}\n",
    "\n",
    "res = y.issubset(x)\n",
    "print(res)\n",
    "\n",
    "res = all(i in a for i in b)\n",
    "print(res)\n",
    "\n",
    "res = any(sub in a for sub in b)\n",
    "print(res)"
   ]
  }
 ],
 "metadata": {
  "kernelspec": {
   "display_name": "base",
   "language": "python",
   "name": "python3"
  },
  "language_info": {
   "codemirror_mode": {
    "name": "ipython",
    "version": 3
   },
   "file_extension": ".py",
   "mimetype": "text/x-python",
   "name": "python",
   "nbconvert_exporter": "python",
   "pygments_lexer": "ipython3",
   "version": "3.12.7"
  }
 },
 "nbformat": 4,
 "nbformat_minor": 5
}
