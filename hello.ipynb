{
 "cells": [
  {
   "cell_type": "code",
   "execution_count": 4,
   "id": "321aa196",
   "metadata": {},
   "outputs": [
    {
     "name": "stdout",
     "output_type": "stream",
     "text": [
      "Hello Python!\n",
      "Hello\n",
      "Hello@Python\n"
     ]
    }
   ],
   "source": [
    "print(\"Hello Python!\")\n",
    "\n",
    "#disable soft space feature\n",
    "print('H','e','l','l','o',sep = '')\n",
    "\n",
    "#end argument\n",
    "print(\"Hello\",end = '@')\n",
    "print(\"Python\")"
   ]
  },
  {
   "cell_type": "code",
   "execution_count": 18,
   "id": "15731f84",
   "metadata": {},
   "outputs": [
    {
     "name": "stdout",
     "output_type": "stream",
     "text": [
      "a: 3 & type of a: <class 'int'>\n",
      "a: 10.5 & type of a: <class 'float'>\n",
      "a: Katty & type of a: <class 'str'>\n",
      "letter: Z & type of letter: <class 'str'>\n",
      "z: (3+4j) & type of <class 'complex'>\n"
     ]
    }
   ],
   "source": [
    "#python is dynamically typed language - data type is based on value assigned\n",
    "\n",
    "a = 3\n",
    "print(f\"a: {a} & type of a: {type(a)}\")\n",
    "\n",
    "a = 10.5\n",
    "print(f\"a: {a} & type of a: {type(a)}\")\n",
    "\n",
    "a = \"Katty\"\n",
    "print(f\"a: {a} & type of a: {type(a)}\")\n",
    "\n",
    "letter = \"Z\"\n",
    "print(f\"letter: {letter} & type of letter: {type(letter)}\")\n",
    "\n",
    "z = 3 + 4j\n",
    "print(f\"z: {z} & type of {type(z)}\")"
   ]
  },
  {
   "cell_type": "code",
   "execution_count": null,
   "id": "0682135d",
   "metadata": {},
   "outputs": [
    {
     "name": "stdout",
     "output_type": "stream",
     "text": [
      "['rose', 32, 55.5, 'medium']\n",
      "first element: rose\n",
      "first 3 elements: ['rose', 32, 55.5]\n",
      "backward list: ['medium', 55.5, 32, 'rose']\n"
     ]
    }
   ],
   "source": [
    "#list is a mutable data structure (items cam be added after list creation)\n",
    "\n",
    "list1 = [\"rose\", 32, 55.5, \"medium\"]\n",
    "print(list1)\n",
    "\n",
    "print(\"first element:\",list1[0])\n",
    "\n",
    "print(\"first 3 elements:\",list1[0:3])\n",
    "\n",
    "print(\"backward list:\",list1[::-1])"
   ]
  },
  {
   "cell_type": "code",
   "execution_count": null,
   "id": "d2dfb41d",
   "metadata": {},
   "outputs": [
    {
     "name": "stdout",
     "output_type": "stream",
     "text": [
      "a + b =  16\n",
      "a - b =  6\n",
      "a * b =  55\n",
      "a / b =  2.2\n",
      "a // b =  2\n",
      "a % b =  1\n"
     ]
    }
   ],
   "source": [
    "#Arithmetic operators\n",
    "\n",
    "a = 11\n",
    "b = 5\n",
    "\n",
    "print(\"a + b = \",a+b)\n",
    "print(\"a - b = \",a-b)\n",
    "print(\"a * b = \",a*b)\n",
    "print(\"a / b = \",a/b)\n",
    "print(\"a // b = \",a//b)\n",
    "print(\"a % b = \",a%b)"
   ]
  },
  {
   "cell_type": "code",
   "execution_count": null,
   "id": "2b4fc4d7",
   "metadata": {},
   "outputs": [
    {
     "name": "stdout",
     "output_type": "stream",
     "text": [
      "False\n",
      "True\n",
      "False\n",
      "False\n",
      "True\n"
     ]
    }
   ],
   "source": [
    "#Relational operators\n",
    "\n",
    "a = 13\n",
    "b= 33\n",
    "\n",
    "print(a > b)\n",
    "print(a < b)\n",
    "print(a == b)\n",
    "print(a >= b)\n",
    "print(a <= b)"
   ]
  },
  {
   "cell_type": "code",
   "execution_count": null,
   "id": "aac94129",
   "metadata": {},
   "outputs": [
    {
     "name": "stdout",
     "output_type": "stream",
     "text": [
      "a and b = False\n",
      "a or b = True\n",
      "not a = False\n"
     ]
    }
   ],
   "source": [
    "#logical operator\n",
    "\n",
    "a = True\n",
    "b = False\n",
    "\n",
    "print(\"a and b =\",a and b)\n",
    "print(\"a or b =\",a or b)\n",
    "print(\"not a =\",not a)\n"
   ]
  },
  {
   "cell_type": "code",
   "execution_count": 17,
   "id": "8c9a531d",
   "metadata": {},
   "outputs": [
    {
     "name": "stdout",
     "output_type": "stream",
     "text": [
      "a & b = 0\n",
      "a | b = 18\n",
      "a ^ b = 18\n",
      "~a = -17\n",
      "a << b = 64\n",
      "a >> b = 4\n"
     ]
    }
   ],
   "source": [
    "#Bitwise operator\n",
    "\n",
    "a = 16\n",
    "b = 2\n",
    "\n",
    "print(\"a & b =\",a & b)\n",
    "print(\"a | b =\",a | b)\n",
    "print(\"a ^ b =\",a ^ b)\n",
    "print(\"~a =\",~a)\n",
    "print(\"a << b =\",a << b)\n",
    "print(\"a >> b =\",a >> b)"
   ]
  },
  {
   "cell_type": "code",
   "execution_count": null,
   "id": "181eeb85",
   "metadata": {},
   "outputs": [
    {
     "name": "stdout",
     "output_type": "stream",
     "text": [
      "True\n",
      "False\n",
      "True\n",
      "True\n"
     ]
    }
   ],
   "source": [
    "#special operators\n",
    "\n",
    "a = \"LifeIsGood\"\n",
    "b = \"LifeOfPie\"\n",
    "\n",
    "#1. Identity operator\n",
    "print(a is not b)\n",
    "print(a is b)\n",
    "\n",
    "#2. Membership operator\n",
    "print(\"Is\" in a)\n",
    "print(\"At\" not in b)"
   ]
  },
  {
   "cell_type": "code",
   "execution_count": null,
   "id": "90ec4805",
   "metadata": {},
   "outputs": [
    {
     "name": "stdout",
     "output_type": "stream",
     "text": [
      "R\n",
      "a\n"
     ]
    }
   ],
   "source": [
    "\"\"\"\n",
    "Python Data Types:\n",
    "1. Numeric - Integer\n",
    "2. Sequence - Strings, Tuple, List\n",
    "3. Dictionary\n",
    "4. Boolean\n",
    "5. Set\n",
    "\"\"\"\n",
    "\n",
    "#updation/deletion not allowed in string(immutable)\n",
    "string = \"Russia\"\n",
    "\n",
    "print(string[0])\n",
    "print(string[-1])"
   ]
  },
  {
   "cell_type": "code",
   "execution_count": 18,
   "id": "9c44a5bc",
   "metadata": {},
   "outputs": [
    {
     "name": "stdout",
     "output_type": "stream",
     "text": [
      "['Bread', 'Butter', ['Apple', 'Mango']]\n",
      "['Bread', 'Butter', ['Apple', 'Mango'], 'Jam']\n",
      "['Bread', 'Butter', 'Milk', ['Banana', 'Apple', 'Mango'], 'Jam']\n",
      "['Bread', 'Butter', 'Milk', ['Banana', 'Apple', 'Mango'], 'Jam', 'Dosa', 'Idli']\n",
      "Idli\n",
      "['Bread', 'Butter', ['Banana', 'Apple', 'Mango'], 'Jam', 'Dosa', 'Idli']\n",
      "['Bread', 'Butter', ['Banana', 'Apple', 'Mango'], 'Jam', 'Dosa']\n"
     ]
    }
   ],
   "source": [
    "items = ['Bread', 'Butter', ['Apple', 'Mango']]\n",
    "print(items)\n",
    "\n",
    "items.append('Jam')\n",
    "print(items)\n",
    "\n",
    "items[2].insert(0, 'Banana')\n",
    "items.insert(2, 'Milk')\n",
    "print(items)\n",
    "\n",
    "items.extend(['Dosa', 'Idli'])\n",
    "print(items)\n",
    "\n",
    "print(items[-1])\n",
    "\n",
    "items.remove('Milk')\n",
    "print(items)\n",
    "\n",
    "items.pop()\n",
    "print(items)"
   ]
  },
  {
   "cell_type": "code",
   "execution_count": 21,
   "id": "042336d9",
   "metadata": {},
   "outputs": [
    {
     "name": "stdout",
     "output_type": "stream",
     "text": [
      "('Copper', 'Bronze', 'Silver', 1)\n",
      "Copper\n",
      "('Bread', 'Butter', 'Jam')\n"
     ]
    }
   ],
   "source": [
    "#Tuples - ordered collection of objects - immutable\n",
    "elements = ('Copper','Bronze','Silver',1)\n",
    "print(elements)\n",
    "print(elements[0])\n",
    "\n",
    "items = ['Bread', 'Butter', 'Jam']\n",
    "print(tuple(items))"
   ]
  },
  {
   "cell_type": "code",
   "execution_count": 32,
   "id": "5bda0ab0",
   "metadata": {},
   "outputs": [
    {
     "name": "stdout",
     "output_type": "stream",
     "text": [
      "{'Monday', 'Tuesday'}\n",
      "{'n', 'a', 'B'}\n",
      "{'Bread', 'Toast'}\n",
      "{('Cake', 'Tea'), 'Bread', 'Toast'}\n",
      "{1, 2, 'Bread', ('Cake', 'Tea'), 'Toast'}\n",
      "{1, 2, 'Bread', ('Cake', 'Tea')}\n",
      "{1, 2, 'Bread'}\n",
      "1\n"
     ]
    }
   ],
   "source": [
    "#Set - unordered collection - mutable & no duplicates\n",
    "set1 = {\"Monday\", \"Tuesday\", \"Monday\"}\n",
    "print(set1)\n",
    "\n",
    "set1 = set(\"Banana\")\n",
    "print(set1)\n",
    "\n",
    "set2 = set([\"Bread\", \"Toast\", \"Bread\"])\n",
    "print(set2)\n",
    "\n",
    "set2.add((\"Cake\", \"Tea\"))\n",
    "print(set2)\n",
    "\n",
    "set2.update([1, 2])\n",
    "print(set2)\n",
    "\n",
    "set2.remove(\"Toast\")\n",
    "print(set2)\n",
    "\n",
    "set2.remove((\"Cake\", \"Tea\"))\n",
    "print(set2)\n",
    "\n",
    "print(set2.pop())\n",
    "\n"
   ]
  },
  {
   "cell_type": "code",
   "execution_count": 43,
   "id": "726f064f",
   "metadata": {},
   "outputs": [
    {
     "name": "stdout",
     "output_type": "stream",
     "text": [
      "{'Name': 'Elle', 1: [1, 2, 3, 4], 2: ['Dr', 'Player']}\n",
      "{1: 'Save', 2: 'Water', 3: {'A': 100, 'B': 10}}\n",
      "{1: 'Save', 2: 'Earth', 3: {'A': 100, 'B': 10}, 4: 'Ecology'}\n",
      "Elle\n",
      "{'A': 100, 'B': 10}\n",
      "Save\n",
      "{2: 'Earth', 3: {'A': 100, 'B': 10}, 4: 'Ecology'}\n",
      "{2: 'Earth', 3: {'A': 100, 'B': 10}}\n"
     ]
    }
   ],
   "source": [
    "#Dictionary - unordered collection of data values - Mutable\n",
    "\n",
    "dict1 = {\"Name\": \"Elle\", 1: [1, 2, 3, 4], 2: [\"Dr\", \"Player\"]}\n",
    "print(dict1)\n",
    "\n",
    "#Nested dictionary\n",
    "\n",
    "dict2 = {1: \"Save\", 2: \"Water\", 3: {'A': 100, 'B': 10}}\n",
    "print(dict2)\n",
    "\n",
    "#Add\n",
    "dict2[4] = \"Ecology\"\n",
    "\n",
    "#update\n",
    "dict2[2] = \"Earth\"\n",
    "print(dict2)\n",
    "\n",
    "print(dict1[\"Name\"])\n",
    "\n",
    "print(dict2.get(3))\n",
    "\n",
    "print(dict2.pop(1))\n",
    "print(dict2)\n",
    "\n",
    "dict2.popitem()\n",
    "print(dict2)"
   ]
  },
  {
   "cell_type": "code",
   "execution_count": null,
   "id": "c8385ccb",
   "metadata": {},
   "outputs": [
    {
     "name": "stdout",
     "output_type": "stream",
     "text": [
      "0 1 2 3 4 \n",
      "1 2 3 4 5 \n",
      "0 3 6 "
     ]
    }
   ],
   "source": [
    "for i in range(5):\n",
    "    print(i, end=\" \")\n",
    "print()\n",
    "\n",
    "for i in range(1, 6):\n",
    "    print(i, end=\" \")\n",
    "print()\n",
    "\n",
    "#step of 3\n",
    "for i in range(0,9,3):\n",
    "    print(i, end=\" \")"
   ]
  },
  {
   "cell_type": "code",
   "execution_count": null,
   "id": "6fe72eb0",
   "metadata": {},
   "outputs": [
    {
     "name": "stdout",
     "output_type": "stream",
     "text": [
      "C h a \n",
      "C h a e \n",
      "C h a n n e l \n"
     ]
    }
   ],
   "source": [
    "#loop control statements - change execution from its normal sequence\n",
    "\n",
    "word = \"Channel\"\n",
    "\n",
    "for i in word:\n",
    "    if i == 'n' or i =='l':\n",
    "        break\n",
    "    print(i, end= \" \")\n",
    "print()\n",
    "\n",
    "for i in word:\n",
    "    if i == 'n' or i =='l':\n",
    "        continue\n",
    "    print(i, end= \" \")\n",
    "print()\n",
    "\n",
    "for i in word:\n",
    "    if i == 'n' or i =='l':\n",
    "        pass\n",
    "    print(i, end= \" \")\n",
    "print()"
   ]
  }
 ],
 "metadata": {
  "kernelspec": {
   "display_name": "base",
   "language": "python",
   "name": "python3"
  },
  "language_info": {
   "codemirror_mode": {
    "name": "ipython",
    "version": 3
   },
   "file_extension": ".py",
   "mimetype": "text/x-python",
   "name": "python",
   "nbconvert_exporter": "python",
   "pygments_lexer": "ipython3",
   "version": "3.12.7"
  }
 },
 "nbformat": 4,
 "nbformat_minor": 5
}
