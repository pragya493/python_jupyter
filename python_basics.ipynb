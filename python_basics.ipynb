{
 "cells": [
  {
   "cell_type": "code",
   "execution_count": 4,
   "id": "321aa196",
   "metadata": {},
   "outputs": [
    {
     "name": "stdout",
     "output_type": "stream",
     "text": [
      "Hello Python!\n",
      "Hello\n",
      "Hello@Python\n"
     ]
    }
   ],
   "source": [
    "print(\"Hello Python!\")\n",
    "\n",
    "#disable soft space feature\n",
    "print('H','e','l','l','o',sep = '')\n",
    "\n",
    "#end argument\n",
    "print(\"Hello\",end = '@')\n",
    "print(\"Python\")"
   ]
  },
  {
   "cell_type": "code",
   "execution_count": 18,
   "id": "15731f84",
   "metadata": {},
   "outputs": [
    {
     "name": "stdout",
     "output_type": "stream",
     "text": [
      "a: 3 & type of a: <class 'int'>\n",
      "a: 10.5 & type of a: <class 'float'>\n",
      "a: Katty & type of a: <class 'str'>\n",
      "letter: Z & type of letter: <class 'str'>\n",
      "z: (3+4j) & type of <class 'complex'>\n"
     ]
    }
   ],
   "source": [
    "#python is dynamically typed language - data type is based on value assigned\n",
    "\n",
    "a = 3\n",
    "print(f\"a: {a} & type of a: {type(a)}\")\n",
    "\n",
    "a = 10.5\n",
    "print(f\"a: {a} & type of a: {type(a)}\")\n",
    "\n",
    "a = \"Katty\"\n",
    "print(f\"a: {a} & type of a: {type(a)}\")\n",
    "\n",
    "letter = \"Z\"\n",
    "print(f\"letter: {letter} & type of letter: {type(letter)}\")\n",
    "\n",
    "z = 3 + 4j\n",
    "print(f\"z: {z} & type of {type(z)}\")"
   ]
  },
  {
   "cell_type": "code",
   "execution_count": null,
   "id": "0682135d",
   "metadata": {},
   "outputs": [
    {
     "name": "stdout",
     "output_type": "stream",
     "text": [
      "['rose', 32, 55.5, 'medium']\n",
      "first element: rose\n",
      "first 3 elements: ['rose', 32, 55.5]\n",
      "backward list: ['medium', 55.5, 32, 'rose']\n"
     ]
    }
   ],
   "source": [
    "#list is a mutable data structure (items cam be added after list creation)\n",
    "\n",
    "list1 = [\"rose\", 32, 55.5, \"medium\"]\n",
    "print(list1)\n",
    "\n",
    "print(\"first element:\",list1[0])\n",
    "\n",
    "print(\"first 3 elements:\",list1[0:3])\n",
    "\n",
    "print(\"backward list:\",list1[::-1])"
   ]
  },
  {
   "cell_type": "code",
   "execution_count": null,
   "id": "d2dfb41d",
   "metadata": {},
   "outputs": [
    {
     "name": "stdout",
     "output_type": "stream",
     "text": [
      "a + b =  16\n",
      "a - b =  6\n",
      "a * b =  55\n",
      "a / b =  2.2\n",
      "a // b =  2\n",
      "a % b =  1\n"
     ]
    }
   ],
   "source": [
    "#Arithmetic operators\n",
    "\n",
    "a = 11\n",
    "b = 5\n",
    "\n",
    "print(\"a + b = \",a+b)\n",
    "print(\"a - b = \",a-b)\n",
    "print(\"a * b = \",a*b)\n",
    "print(\"a / b = \",a/b)\n",
    "print(\"a // b = \",a//b)\n",
    "print(\"a % b = \",a%b)"
   ]
  },
  {
   "cell_type": "code",
   "execution_count": null,
   "id": "2b4fc4d7",
   "metadata": {},
   "outputs": [
    {
     "name": "stdout",
     "output_type": "stream",
     "text": [
      "False\n",
      "True\n",
      "False\n",
      "False\n",
      "True\n"
     ]
    }
   ],
   "source": [
    "#Relational operators\n",
    "\n",
    "a = 13\n",
    "b= 33\n",
    "\n",
    "print(a > b)\n",
    "print(a < b)\n",
    "print(a == b)\n",
    "print(a >= b)\n",
    "print(a <= b)"
   ]
  },
  {
   "cell_type": "code",
   "execution_count": null,
   "id": "aac94129",
   "metadata": {},
   "outputs": [
    {
     "name": "stdout",
     "output_type": "stream",
     "text": [
      "a and b = False\n",
      "a or b = True\n",
      "not a = False\n"
     ]
    }
   ],
   "source": [
    "#logical operator\n",
    "\n",
    "a = True\n",
    "b = False\n",
    "\n",
    "print(\"a and b =\",a and b)\n",
    "print(\"a or b =\",a or b)\n",
    "print(\"not a =\",not a)\n"
   ]
  },
  {
   "cell_type": "code",
   "execution_count": 17,
   "id": "8c9a531d",
   "metadata": {},
   "outputs": [
    {
     "name": "stdout",
     "output_type": "stream",
     "text": [
      "a & b = 0\n",
      "a | b = 18\n",
      "a ^ b = 18\n",
      "~a = -17\n",
      "a << b = 64\n",
      "a >> b = 4\n"
     ]
    }
   ],
   "source": [
    "#Bitwise operator\n",
    "\n",
    "a = 16\n",
    "b = 2\n",
    "\n",
    "print(\"a & b =\",a & b)\n",
    "print(\"a | b =\",a | b)\n",
    "print(\"a ^ b =\",a ^ b)\n",
    "print(\"~a =\",~a)\n",
    "print(\"a << b =\",a << b)\n",
    "print(\"a >> b =\",a >> b)"
   ]
  },
  {
   "cell_type": "code",
   "execution_count": null,
   "id": "181eeb85",
   "metadata": {},
   "outputs": [
    {
     "name": "stdout",
     "output_type": "stream",
     "text": [
      "True\n",
      "False\n",
      "True\n",
      "True\n"
     ]
    }
   ],
   "source": [
    "#special operators\n",
    "\n",
    "a = \"LifeIsGood\"\n",
    "b = \"LifeOfPie\"\n",
    "\n",
    "#1. Identity operator\n",
    "print(a is not b)\n",
    "print(a is b)\n",
    "\n",
    "#2. Membership operator\n",
    "print(\"Is\" in a)\n",
    "print(\"At\" not in b)"
   ]
  },
  {
   "cell_type": "code",
   "execution_count": null,
   "id": "90ec4805",
   "metadata": {},
   "outputs": [
    {
     "name": "stdout",
     "output_type": "stream",
     "text": [
      "R\n",
      "a\n"
     ]
    }
   ],
   "source": [
    "\"\"\"\n",
    "Python Data Types:\n",
    "1. Numeric - Integer\n",
    "2. Sequence - Strings, Tuple, List\n",
    "3. Dictionary\n",
    "4. Boolean\n",
    "5. Set\n",
    "\"\"\"\n",
    "\n",
    "#updation/deletion not allowed in string(immutable)\n",
    "string = \"Russia\"\n",
    "\n",
    "print(string[0])\n",
    "print(string[-1])"
   ]
  },
  {
   "cell_type": "code",
   "execution_count": 18,
   "id": "9c44a5bc",
   "metadata": {},
   "outputs": [
    {
     "name": "stdout",
     "output_type": "stream",
     "text": [
      "['Bread', 'Butter', ['Apple', 'Mango']]\n",
      "['Bread', 'Butter', ['Apple', 'Mango'], 'Jam']\n",
      "['Bread', 'Butter', 'Milk', ['Banana', 'Apple', 'Mango'], 'Jam']\n",
      "['Bread', 'Butter', 'Milk', ['Banana', 'Apple', 'Mango'], 'Jam', 'Dosa', 'Idli']\n",
      "Idli\n",
      "['Bread', 'Butter', ['Banana', 'Apple', 'Mango'], 'Jam', 'Dosa', 'Idli']\n",
      "['Bread', 'Butter', ['Banana', 'Apple', 'Mango'], 'Jam', 'Dosa']\n"
     ]
    }
   ],
   "source": [
    "items = ['Bread', 'Butter', ['Apple', 'Mango']]\n",
    "print(items)\n",
    "\n",
    "items.append('Jam')\n",
    "print(items)\n",
    "\n",
    "items[2].insert(0, 'Banana')\n",
    "items.insert(2, 'Milk')\n",
    "print(items)\n",
    "\n",
    "items.extend(['Dosa', 'Idli'])\n",
    "print(items)\n",
    "\n",
    "print(items[-1])\n",
    "\n",
    "items.remove('Milk')\n",
    "print(items)\n",
    "\n",
    "items.pop()\n",
    "print(items)"
   ]
  },
  {
   "cell_type": "code",
   "execution_count": 21,
   "id": "042336d9",
   "metadata": {},
   "outputs": [
    {
     "name": "stdout",
     "output_type": "stream",
     "text": [
      "('Copper', 'Bronze', 'Silver', 1)\n",
      "Copper\n",
      "('Bread', 'Butter', 'Jam')\n"
     ]
    }
   ],
   "source": [
    "#Tuples - ordered collection of objects - immutable\n",
    "elements = ('Copper','Bronze','Silver',1)\n",
    "print(elements)\n",
    "print(elements[0])\n",
    "\n",
    "items = ['Bread', 'Butter', 'Jam']\n",
    "print(tuple(items))"
   ]
  },
  {
   "cell_type": "code",
   "execution_count": 32,
   "id": "5bda0ab0",
   "metadata": {},
   "outputs": [
    {
     "name": "stdout",
     "output_type": "stream",
     "text": [
      "{'Monday', 'Tuesday'}\n",
      "{'n', 'a', 'B'}\n",
      "{'Bread', 'Toast'}\n",
      "{('Cake', 'Tea'), 'Bread', 'Toast'}\n",
      "{1, 2, 'Bread', ('Cake', 'Tea'), 'Toast'}\n",
      "{1, 2, 'Bread', ('Cake', 'Tea')}\n",
      "{1, 2, 'Bread'}\n",
      "1\n"
     ]
    }
   ],
   "source": [
    "#Set - unordered collection - mutable & no duplicates\n",
    "set1 = {\"Monday\", \"Tuesday\", \"Monday\"}\n",
    "print(set1)\n",
    "\n",
    "set1 = set(\"Banana\")\n",
    "print(set1)\n",
    "\n",
    "set2 = set([\"Bread\", \"Toast\", \"Bread\"])\n",
    "print(set2)\n",
    "\n",
    "set2.add((\"Cake\", \"Tea\"))\n",
    "print(set2)\n",
    "\n",
    "set2.update([1, 2])\n",
    "print(set2)\n",
    "\n",
    "set2.remove(\"Toast\")\n",
    "print(set2)\n",
    "\n",
    "set2.remove((\"Cake\", \"Tea\"))\n",
    "print(set2)\n",
    "\n",
    "print(set2.pop())\n",
    "\n"
   ]
  },
  {
   "cell_type": "code",
   "execution_count": 43,
   "id": "726f064f",
   "metadata": {},
   "outputs": [
    {
     "name": "stdout",
     "output_type": "stream",
     "text": [
      "{'Name': 'Elle', 1: [1, 2, 3, 4], 2: ['Dr', 'Player']}\n",
      "{1: 'Save', 2: 'Water', 3: {'A': 100, 'B': 10}}\n",
      "{1: 'Save', 2: 'Earth', 3: {'A': 100, 'B': 10}, 4: 'Ecology'}\n",
      "Elle\n",
      "{'A': 100, 'B': 10}\n",
      "Save\n",
      "{2: 'Earth', 3: {'A': 100, 'B': 10}, 4: 'Ecology'}\n",
      "{2: 'Earth', 3: {'A': 100, 'B': 10}}\n"
     ]
    }
   ],
   "source": [
    "#Dictionary - unordered collection of data values - Mutable\n",
    "\n",
    "dict1 = {\"Name\": \"Elle\", 1: [1, 2, 3, 4], 2: [\"Dr\", \"Player\"]}\n",
    "print(dict1)\n",
    "\n",
    "#Nested dictionary\n",
    "\n",
    "dict2 = {1: \"Save\", 2: \"Water\", 3: {'A': 100, 'B': 10}}\n",
    "print(dict2)\n",
    "\n",
    "#Add\n",
    "dict2[4] = \"Ecology\"\n",
    "\n",
    "#update\n",
    "dict2[2] = \"Earth\"\n",
    "print(dict2)\n",
    "\n",
    "print(dict1[\"Name\"])\n",
    "\n",
    "print(dict2.get(3))\n",
    "\n",
    "print(dict2.pop(1))\n",
    "print(dict2)\n",
    "\n",
    "dict2.popitem()\n",
    "print(dict2)"
   ]
  },
  {
   "cell_type": "code",
   "execution_count": null,
   "id": "c8385ccb",
   "metadata": {},
   "outputs": [
    {
     "name": "stdout",
     "output_type": "stream",
     "text": [
      "0 1 2 3 4 \n",
      "1 2 3 4 5 \n",
      "0 3 6 "
     ]
    }
   ],
   "source": [
    "for i in range(5):\n",
    "    print(i, end=\" \")\n",
    "print()\n",
    "\n",
    "for i in range(1, 6):\n",
    "    print(i, end=\" \")\n",
    "print()\n",
    "\n",
    "#step of 3\n",
    "for i in range(0,9,3):\n",
    "    print(i, end=\" \")"
   ]
  },
  {
   "cell_type": "code",
   "execution_count": null,
   "id": "6fe72eb0",
   "metadata": {},
   "outputs": [
    {
     "name": "stdout",
     "output_type": "stream",
     "text": [
      "C h a \n",
      "C h a e \n",
      "C h a n n e l \n"
     ]
    }
   ],
   "source": [
    "#loop control statements - change execution from its normal sequence\n",
    "\n",
    "word = \"Channel\"\n",
    "\n",
    "for i in word:\n",
    "    if i == 'n' or i =='l':\n",
    "        break\n",
    "    print(i, end= \" \")\n",
    "print()\n",
    "\n",
    "for i in word:\n",
    "    if i == 'n' or i =='l':\n",
    "        continue\n",
    "    print(i, end= \" \")\n",
    "print()\n",
    "\n",
    "for i in word:\n",
    "    if i == 'n' or i =='l':\n",
    "        pass\n",
    "    print(i, end= \" \")\n",
    "print()"
   ]
  },
  {
   "cell_type": "code",
   "execution_count": null,
   "id": "58151d60",
   "metadata": {},
   "outputs": [
    {
     "name": "stdout",
     "output_type": "stream",
     "text": [
      "Type of x: <class 'float'>\n",
      "Type of y: <class 'str'>\n"
     ]
    }
   ],
   "source": [
    "#Type conversion\n",
    "\n",
    "#Implicit type conversion - Python interpreter automatically\n",
    "#converts one data type to another\n",
    "x = 10.5\n",
    "print(\"Type of x:\",type(x))\n",
    "\n",
    "y = \"Apple\"\n",
    "print(\"Type of y:\",type(y))"
   ]
  },
  {
   "cell_type": "code",
   "execution_count": 2,
   "id": "71cea802",
   "metadata": {},
   "outputs": [
    {
     "name": "stdout",
     "output_type": "stream",
     "text": [
      "After converting s of base 2 -> int : 18\n",
      "After converting s of base 16 -> int: 18\n",
      "After converting s to float: 10010.0\n",
      "After converting char -> integer: 48\n",
      "After converting 56 -> hex: 0x38\n",
      "After converting 56 -> oct: 0o70\n"
     ]
    }
   ],
   "source": [
    "#Explicit Type conversion - changed by user (risk of data loss)\n",
    "\n",
    "s = \"10010\"\n",
    "\n",
    "c = int(s, 2)\n",
    "print(f\"After converting s of base 2 -> int : {c}\")\n",
    "#base specifies base in which string \"s\" is\n",
    "\n",
    "c = int(\"0x12\", base=16)\n",
    "print(f\"After converting s of base 16 -> int: {c}\")\n",
    "\n",
    "\n",
    "e = float(s)\n",
    "print(f\"After converting s to float: {e}\")\n",
    "\n",
    "s = '0'\n",
    "c = ord(s)\n",
    "print(f\"After converting char -> integer: {c}\")\n",
    "\n",
    "c = hex(56)\n",
    "print(f\"After converting 56 -> hex: {c}\")\n",
    "\n",
    "c = oct(56)\n",
    "print(f\"After converting 56 -> oct: {c}\")"
   ]
  },
  {
   "cell_type": "code",
   "execution_count": 15,
   "id": "3aa86ac3",
   "metadata": {},
   "outputs": [
    {
     "name": "stdout",
     "output_type": "stream",
     "text": [
      "Tuple: ('M', 'o', 'u', 'n', 't', 'a', 'i', 'n', 's')\n",
      "Set: {'u', 'i', 'n', 'M', 'o', 's', 'a', 't'}\n",
      "List: ['M', 'o', 'u', 'n', 't', 'a', 'i', 'n', 's']\n"
     ]
    }
   ],
   "source": [
    "#Type conversion using tuple(), set(), list()\n",
    "\n",
    "string = 'Mountains'\n",
    "\n",
    "c = tuple(string)\n",
    "print(f\"Tuple: {c}\")\n",
    "\n",
    "c = set(string)\n",
    "print(f\"Set: {c}\")\n",
    "\n",
    "c = list(string)\n",
    "print(f\"List: {c}\")\n",
    "\n"
   ]
  },
  {
   "cell_type": "code",
   "execution_count": 16,
   "id": "cff8e8d6",
   "metadata": {},
   "outputs": [
    {
     "name": "stdout",
     "output_type": "stream",
     "text": [
      "int -> complex (1+2j)\n",
      "int -> string 1\n",
      "tuple -> dict:  {'a': 1, 'b': 2, 'c': 3}\n"
     ]
    }
   ],
   "source": [
    "#Type conversion\n",
    "\n",
    "a = 1\n",
    "b = 2\n",
    "tup = (('a', 1), ('b', 2), ('c', 3))\n",
    "\n",
    "c = complex(a,b)\n",
    "print(\"int -> complex\",c)\n",
    "\n",
    "c = str(a)\n",
    "print(\"int -> string\",c)\n",
    "\n",
    "c = dict(tup)\n",
    "print(\"tuple -> dict: \",c)\n"
   ]
  },
  {
   "cell_type": "code",
   "execution_count": 20,
   "id": "5b5f6e74",
   "metadata": {},
   "outputs": [
    {
     "name": "stdout",
     "output_type": "stream",
     "text": [
      "c: A, type <class 'str'>\n",
      "o: 65, type <class 'int'>\n"
     ]
    }
   ],
   "source": [
    "#converting ASCII to char\n",
    "\n",
    "c = chr(65)\n",
    "print(f\"c: {c}, type {type(c)}\")\n",
    "\n",
    "o = ord('A')\n",
    "print(f\"o: {o}, type {type(o)}\")"
   ]
  },
  {
   "cell_type": "code",
   "execution_count": 35,
   "id": "c4bef3fc",
   "metadata": {},
   "outputs": [
    {
     "name": "stdout",
     "output_type": "stream",
     "text": [
      "Name: Wally, Age: 30\n",
      " 1750\n",
      " 3.250E+02\n",
      "Mars project: Spirit\n"
     ]
    }
   ],
   "source": [
    "#Python output formatting\n",
    "\n",
    "#string modulo operator(%)\n",
    "#max-width, precision %5.2f\n",
    "\n",
    "print(\"Name: %s, Age: %d\" %(\"Wally\", 30))\n",
    "\n",
    "print(\"%5.3o\" %(1000))  #print octal value\n",
    "\n",
    "print(\"%10.3E\" %(325.025))\n",
    "\n",
    "print(\"Mars project: {}\".format(\"Spirit\"))"
   ]
  },
  {
   "cell_type": "code",
   "execution_count": 42,
   "id": "398bf682",
   "metadata": {},
   "outputs": [
    {
     "name": "stdout",
     "output_type": "stream",
     "text": [
      "Center aligned: \n",
      "#####Pride and Prejudice######\n",
      "\n",
      "Left aligned: \n",
      "Pride and Prejudice-----------\n",
      "\n",
      "Right aligned: \n",
      "***********Pride and Prejudice\n",
      "\n"
     ]
    }
   ],
   "source": [
    "str = \"Pride and Prejudice\"\n",
    "\n",
    "print(\"Center aligned: \")\n",
    "print(str.center(30, '#') + \"\\n\")\n",
    "\n",
    "print(\"Left aligned: \")\n",
    "print(str.ljust(30, '-') + \"\\n\")\n",
    "\n",
    "print(\"Right aligned: \")\n",
    "print(str.rjust(30, '*') + \"\\n\")\n",
    "\n"
   ]
  },
  {
   "cell_type": "code",
   "execution_count": 43,
   "id": "dfab79e9",
   "metadata": {},
   "outputs": [
    {
     "name": "stdout",
     "output_type": "stream",
     "text": [
      "The list of keywords is: \n",
      "['False', 'None', 'True', 'and', 'as', 'assert', 'async', 'await', 'break', 'class', 'continue', 'def', 'del', 'elif', 'else', 'except', 'finally', 'for', 'from', 'global', 'if', 'import', 'in', 'is', 'lambda', 'nonlocal', 'not', 'or', 'pass', 'raise', 'return', 'try', 'while', 'with', 'yield']\n"
     ]
    }
   ],
   "source": [
    "import keyword\n",
    "\n",
    "print(\"The list of keywords is: \")\n",
    "print(keyword.kwlist)"
   ]
  },
  {
   "cell_type": "code",
   "execution_count": 7,
   "id": "f8457c68",
   "metadata": {},
   "outputs": [
    {
     "name": "stdout",
     "output_type": "stream",
     "text": [
      "Odd\n",
      "Positive\n",
      "Odd\n",
      "20\n",
      "20\n",
      "b is greater\n"
     ]
    }
   ],
   "source": [
    "#Ternary operator\n",
    "\n",
    "#1. Using Nested if else\n",
    "\n",
    "n=5\n",
    "res = \"Even\" if n %2 == 0 else \"Odd\"\n",
    "print(res)\n",
    "\n",
    "res = \"Positive\" if n > 0 else \"Negative\" if n < 0 else \"Zero\"\n",
    "print(res)\n",
    "\n",
    "#2. Using Tuple\n",
    "\n",
    "res = (\"Odd\", \"Even\")[n % 2 == 0]   #(False, True)\n",
    "print(res)\n",
    "\n",
    "#3. Using Dictionary\n",
    "\n",
    "a = 10\n",
    "b = 20\n",
    "max = {True: a, False: b}[a > b] #condition[10 > 20] false\n",
    "print(max)\n",
    "\n",
    "#4. Using Lambda\n",
    "\n",
    "max = (lambda x,y : x if x > y else y)(a, b)\n",
    "print(max)\n",
    "\n",
    "#5. Using print function\n",
    "\n",
    "print(\"a is greater\" if a > b else \"b is greater\")"
   ]
  },
  {
   "cell_type": "code",
   "execution_count": 11,
   "id": "52cf0728",
   "metadata": {},
   "outputs": [
    {
     "name": "stdout",
     "output_type": "stream",
     "text": [
      "11\n",
      "[1, 2, 3, 10, 20]\n"
     ]
    }
   ],
   "source": [
    "x = 10\n",
    "x += 1\n",
    "print(x)\n",
    "\n",
    "\n",
    "y = [1, 2, 3]\n",
    "y += [10, 20]\n",
    "print(y)"
   ]
  },
  {
   "cell_type": "code",
   "execution_count": null,
   "id": "9c7cb3da",
   "metadata": {},
   "outputs": [
    {
     "name": "stdout",
     "output_type": "stream",
     "text": [
      "True\n",
      "False\n",
      "True\n"
     ]
    }
   ],
   "source": [
    "#difference between '==' and 'is' operator\n",
    "\n",
    "x = [1, 2, 3]\n",
    "y = [1, 2, 3]\n",
    "z = x\n",
    "\n",
    "# for determining equality (==)\n",
    "res1 = \"True\" if x == y else \"False\"\n",
    "print(res1)\n",
    "\n",
    "# for comparing based on their identity (is/ is not)\n",
    "# i.e if either side variables point at same object\n",
    "res2 = \"True\" if x is y else \"False\"\n",
    "print(res2)\n",
    "\n",
    "res3 = \"True\" if x is z else \"False\"\n",
    "print(res3)"
   ]
  }
 ],
 "metadata": {
  "kernelspec": {
   "display_name": "base",
   "language": "python",
   "name": "python3"
  },
  "language_info": {
   "codemirror_mode": {
    "name": "ipython",
    "version": 3
   },
   "file_extension": ".py",
   "mimetype": "text/x-python",
   "name": "python",
   "nbconvert_exporter": "python",
   "pygments_lexer": "ipython3",
   "version": "3.12.7"
  }
 },
 "nbformat": 4,
 "nbformat_minor": 5
}
