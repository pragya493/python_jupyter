{
 "cells": [
  {
   "cell_type": "code",
   "execution_count": 5,
   "id": "7543b40a",
   "metadata": {},
   "outputs": [
    {
     "name": "stdout",
     "output_type": "stream",
     "text": [
      "{0: 'India', 1: 'USA', 2: 'Finland', 3: 'Sweden'}\n",
      "{0: 'India', 1: 'USA', 2: 'Finland', 3: 'Sweden'}\n",
      "{0: 'India', 1: 'USA', 2: 'Finland', 3: 'Sweden'}\n",
      "{0: 'India', 1: 'USA', 2: 'Finland', 3: 'Sweden'}\n",
      "{0: 'India', 1: 'USA', 2: 'Finland', 3: 'Sweden'}\n"
     ]
    }
   ],
   "source": [
    "#dictionary stores key-value pairs, where each key must be unique.\n",
    "#In Python, dictionaries are created using curly braces {} or the dict() constructor.\n",
    "\n",
    "a = {0: 'India', 1: 'USA'}\n",
    "b = {2: 'Finland', 3: 'Sweden'}\n",
    "\n",
    "#Adding values to a dict.\n",
    "#union operator\n",
    "res = a | b\n",
    "print(res)\n",
    "\n",
    "#unpacking operator\n",
    "res = {**a, **b}\n",
    "print(res)\n",
    "\n",
    "#update()\n",
    "res = a.copy()\n",
    "res.update(b)\n",
    "print(res)\n",
    "\n",
    "#dictionary comprehension\n",
    "\n",
    "res = {k:v for d in (a,b) for k,v in d.items()}\n",
    "print(res)\n",
    "\n",
    "res = a.copy()\n",
    "res[2] = 'Finland'\n",
    "res[3] = 'Sweden'\n",
    "print(res)"
   ]
  },
  {
   "cell_type": "code",
   "execution_count": 8,
   "id": "b9dfefa8",
   "metadata": {},
   "outputs": [
    {
     "name": "stdout",
     "output_type": "stream",
     "text": [
      "{'a': 1, 'b': 2, 'c': 3}\n",
      "{'a': 1, 'b': 2, 'c': 3, 'd': 4, 'e': 5}\n",
      "{'a': 1, 'b': 2, 'c': 3, 'd': 4, 'e': 5, 'f': 6, 'g': 7}\n"
     ]
    }
   ],
   "source": [
    "#Add new keys to dict\n",
    "\n",
    "dict1 = {'a': 1, 'b': 2}\n",
    "\n",
    "dict1['c'] = 3\n",
    "print(dict1)\n",
    "\n",
    "dict1.update({'d':4, \"e\": 5})\n",
    "print(dict1)\n",
    "\n",
    "dict1 = dict1 | {'f': 6, 'g': 7}\n",
    "print(dict1)"
   ]
  },
  {
   "cell_type": "code",
   "execution_count": null,
   "id": "7f2f0ac6",
   "metadata": {},
   "outputs": [
    {
     "name": "stdout",
     "output_type": "stream",
     "text": [
      "{'a': 1, 'b': 4, 'c': 3}\n",
      "{'a': 1, 'b': 4, 'c': 3}\n",
      "{'a': 1, 'b': 4, 'c': 3}\n",
      "{'a': 1, 'b': 4, 'c': 3}\n"
     ]
    }
   ],
   "source": [
    "d = {'a': 1,'c': 3}\n",
    "key, val = 'b', 4\n",
    "tar = 'a'\n",
    "\n",
    "#using list slicing\n",
    "keys = list(d.keys())\n",
    "values = list(d.values())\n",
    "id = keys.index(tar)\n",
    "\n",
    "x = keys[:id + 1] + [key] + keys[id + 1:]\n",
    "y = values[:id + 1] + [val] + values[id + 1:]\n",
    "\n",
    "res = dict(zip(x, y))\n",
    "print(res)\n",
    "\n",
    "\n",
    "#using itertools.chain\n",
    "from itertools import chain\n",
    "\n",
    "li = list(d.items())\n",
    "#index of target key-value pair\n",
    "id = li.index((tar, d[tar])) \n",
    "\n",
    "res = dict(chain(li[:id+1],\n",
    "                 [(key, val)],\n",
    "                li[id+1:]))\n",
    "print(res)\n",
    "\n",
    "\n",
    "#using insert method\n",
    "items = list(d.items())\n",
    "id = [i for i, (key,_) in enumerate(items) if key ==tar][0]\n",
    "items.insert(id+1, (key, val))\n",
    "res = dict(items)\n",
    "print(res)\n",
    "\n",
    "\n",
    "#for loop\n",
    "res = {}\n",
    "for i, j in d.items():\n",
    "    res[i] = j\n",
    "    if i == tar:\n",
    "        res[key] = val\n",
    "print(res)\n",
    "\n"
   ]
  },
  {
   "cell_type": "code",
   "execution_count": 21,
   "id": "e3b7ee12",
   "metadata": {},
   "outputs": [
    {
     "name": "stdout",
     "output_type": "stream",
     "text": [
      "{'a': 1, 'b': 2, 'd': 4, 'e': 5}\n",
      "3\n",
      "{'a': 1, 'b': 2, 'd': 4}\n",
      "{'a': 1, 'd': 4}\n",
      "{'a': 1}\n",
      "{'a': 1}\n",
      "key not found\n"
     ]
    }
   ],
   "source": [
    "#Remove key from dict\n",
    "\n",
    "d = {'a': 1, 'b': 2, 'c': 3, 'd': 4, 'e': 5}\n",
    "\n",
    "val = d.pop('c')\n",
    "print(d)\n",
    "print(val)\n",
    "\n",
    "del d['e']\n",
    "print(d)\n",
    "\n",
    "d = {k: v for k, v in d.items() if k != 'b'}\n",
    "print(d)\n",
    "\n",
    "#last key removal\n",
    "val = d.popitem()\n",
    "print(d)\n",
    "\n",
    "#dict.pop()\n",
    "\n",
    "val = d.pop('b', \"key not found\")\n",
    "print(d)\n",
    "print(val)"
   ]
  },
  {
   "cell_type": "code",
   "execution_count": 27,
   "id": "c493584b",
   "metadata": {},
   "outputs": [
    {
     "name": "stdout",
     "output_type": "stream",
     "text": [
      "[{'a': 1, 'b': 2}, {'e': 5, 'f': 6}]\n",
      "[{'a': 1, 'b': 2}, {'c': 3, 'd': 4}]\n",
      "[{'c': 3, 'd': 4}, {'e': 5, 'f': 6}]\n",
      "[{'c': 3, 'd': 4}, {'e': 5, 'f': 6}]\n",
      "[{'c': 3, 'd': 4}, {'e': 5, 'f': 6}]\n"
     ]
    }
   ],
   "source": [
    "#removing dict from list of dicts\n",
    "\n",
    "li = [{'a': 1, 'b': 2}, {'c': 3, 'd': 4}, {'e': 5, 'f': 6}]\n",
    "\n",
    "val = [d for d in li if 'c' not in d]\n",
    "print(val)\n",
    "\n",
    "val = [d for d in li if d.get('e') != 5 ]\n",
    "print(val)\n",
    "\n",
    "val = list(filter(lambda d: d.get('a') != 1, li))\n",
    "print(val)\n",
    "\n",
    "for d in li:\n",
    "    if d.get('b') == 2:\n",
    "        li.remove(d)\n",
    "print(li)\n",
    "\n",
    "#reverse loop prevents index shifting issues\n",
    "for i in range(len(li) - 1, -1, -1):\n",
    "    if li[i].get('a') == 1:\n",
    "        li.pop(i)\n",
    "        break\n",
    "print(li)"
   ]
  },
  {
   "cell_type": "code",
   "execution_count": null,
   "id": "1999ed31",
   "metadata": {},
   "outputs": [
    {
     "name": "stdout",
     "output_type": "stream",
     "text": [
      "{'a': 1, 'b': 2, 'd': 4, 'e': 5}\n",
      "{'a': 1, 'd': 4, 'e': 5}\n",
      "{'a': 1, 'b': 2, 'd': 4}\n"
     ]
    }
   ],
   "source": [
    "#Remove item from dict when key is unknown\n",
    "d = {'a': 1, 'b': 2, 'c': 3, 'd': 4, 'e': 5}\n",
    "\n",
    "\n",
    "#using loop & condition\n",
    "condition = lambda k, v: v == 3\n",
    "k = None\n",
    "\n",
    "for key, value in d.items():\n",
    "    if condition(key, value):\n",
    "        k = key\n",
    "        break\n",
    "if k:\n",
    "    del d[k]\n",
    "print(d)\n",
    "\n",
    "#using dict comprehension\n",
    "condition = lambda k, v: v == 2\n",
    "k = None\n",
    "\n",
    "f = {k: v for k, v in d.items() if not condition(k, v)}\n",
    "print(f)\n",
    "\n",
    "#using next()\n",
    "condition = lambda k, v: v == 5\n",
    "k = None\n",
    "\n",
    "k = next((k for k, v in d.items() if condition(k, v)), None)\n",
    "if k:\n",
    "    del d[k]\n",
    "print(d)"
   ]
  },
  {
   "cell_type": "code",
   "execution_count": 40,
   "id": "89b4f631",
   "metadata": {},
   "outputs": [
    {
     "name": "stdout",
     "output_type": "stream",
     "text": [
      "True\n",
      "True\n",
      "True\n",
      "True\n",
      "True\n",
      "True\n"
     ]
    }
   ],
   "source": [
    "#Test if all values are same\n",
    "\n",
    "d = {'a': 1, 'b': 1, 'c': 1, 'd': 1}\n",
    "\n",
    "#using for loop\n",
    "res= True\n",
    "val = list(d.values())[0]\n",
    "for key in d:\n",
    "    if d[key] != val:\n",
    "        res = False\n",
    "        break\n",
    "print(res)\n",
    "\n",
    "#using set\n",
    "res = len(set(list(d.values()))) == 1\n",
    "print(res)\n",
    "\n",
    "#using count()\n",
    "x = list(d.values())\n",
    "res = False\n",
    "if x.count(x[0]) == len(x):\n",
    "    res = True\n",
    "print(res)\n",
    "\n",
    "#using all()\n",
    "val = list(d.values())[0]\n",
    "res = all(v == val for v in d.values())\n",
    "print(res)\n",
    "\n",
    "#using Counter()\n",
    "from collections import Counter\n",
    "x = list(d.values())\n",
    "res = False\n",
    "freq = Counter(x)\n",
    "if len(freq) == 1:\n",
    "    res = True\n",
    "print(res)\n",
    "\n",
    "\n",
    "#using operator.countOf()\n",
    "from operator import countOf\n",
    "\n",
    "x = list(d.values())\n",
    "res = False\n",
    "if(countOf(x, x[0])) == len(x):\n",
    "    res = True\n",
    "print(res)"
   ]
  },
  {
   "cell_type": "code",
   "execution_count": 42,
   "id": "82bdf97a",
   "metadata": {},
   "outputs": [
    {
     "name": "stdout",
     "output_type": "stream",
     "text": [
      "Value not found\n",
      "True\n"
     ]
    }
   ],
   "source": [
    "#check if ele is dict value\n",
    "\n",
    "d = {'a': 1, 'b': 2, 'c': 3, 'd': 4}\n",
    "\n",
    "if any([True for k, v in d.items() if v == 5]):\n",
    "    print(\"Value found\")\n",
    "else:\n",
    "    print(\"Value not found\")\n",
    "\n",
    "\n",
    "#using values()\n",
    "res = 3 in d.values()\n",
    "print(res)"
   ]
  },
  {
   "cell_type": "code",
   "execution_count": 48,
   "id": "89a6cab7",
   "metadata": {},
   "outputs": [
    {
     "name": "stdout",
     "output_type": "stream",
     "text": [
      "Key: name, Value: Alice\n",
      "Key: age, Value: 30\n",
      "Key: city, Value: New York\n",
      "Alice\n",
      "30\n",
      "New York\n"
     ]
    }
   ],
   "source": [
    "#Iterate over a dict\n",
    "\n",
    "#Iterate over a dictionary using items() method\n",
    "d = {\"name\": \"Alice\", \"age\": 30, \"city\": \"New York\"}\n",
    "for key, value in d.items():\n",
    "    print(f\"Key: {key}, Value: {value}\")\n",
    "\n",
    "#Iterate using map() and dict.get\n",
    "\n",
    "values = map(d.get, d.keys())\n",
    "for value in values:\n",
    "    print(value)"
   ]
  },
  {
   "cell_type": "code",
   "execution_count": 53,
   "id": "e2e0637b",
   "metadata": {},
   "outputs": [
    {
     "name": "stdout",
     "output_type": "stream",
     "text": [
      "{'name': 'Alice', 'Id': 1, 'age': 30}\n",
      "{'name': 'Alex', 'Id': 2, 'age': 25}\n",
      "{'name': 'Tom', 'Id': 3, 'age': 31}\n",
      "dict_keys(['name', 'Id', 'age'])\n",
      "dict_values(['Alice', 1, 30])\n",
      "\n",
      "dict_keys(['name', 'Id', 'age'])\n",
      "dict_values(['Alex', 2, 25])\n",
      "\n",
      "dict_keys(['name', 'Id', 'age'])\n",
      "dict_values(['Tom', 3, 31])\n",
      "\n"
     ]
    }
   ],
   "source": [
    "#Iterate over nested dict\n",
    "\n",
    "data = {\n",
    "    \"person1\": {\"name\": \"Alice\",\"Id\": 1,\"age\": 30},\n",
    "    \"person2\": {\"name\": \"Alex\",\"Id\": 2,\"age\": 25},\n",
    "    \"person3\": {\"name\": \"Tom\",\"Id\": 3,\"age\": 31}\n",
    "}\n",
    "\n",
    "for i in data:\n",
    "    print(data[i])\n",
    "\n",
    "for i in data:\n",
    "    print(data[i].keys())\n",
    "    print(data[i].values())\n",
    "    print()\n",
    "\n"
   ]
  },
  {
   "cell_type": "code",
   "execution_count": 63,
   "id": "c95a4f52",
   "metadata": {},
   "outputs": [
    {
     "name": "stdout",
     "output_type": "stream",
     "text": [
      "{'a': 1, 'b': 2, 'c': 3, 'd': 4, 'f': 6}\n",
      "{'a': 1, 'b': 2, 'c': 3, 'd': 4}\n",
      "{'a': 1, 'b': 2, 'd': 4}\n"
     ]
    }
   ],
   "source": [
    "#Delete items from dict while iterating\n",
    "\n",
    "d = {'a': 1, 'b': 2, 'c': 3, 'd': 4, 'e': 5, 'f': 6}\n",
    "\n",
    "#RuntimeError: dictionary changed size during iteration\n",
    "# for key in d.keys():\n",
    "#     if key == 'f':\n",
    "#         del d[key]\n",
    "# print(d)\n",
    "\n",
    "#using list(dict)\n",
    "li = []\n",
    "for key in list(d):\n",
    "    if key == 'e':\n",
    "        li.append(key)\n",
    "for i in li:\n",
    "    del d[i]\n",
    "print(d)\n",
    "\n",
    "\n",
    "#creating a list of keys to delete\n",
    "delete = [key for key in d if key == 'f']\n",
    "for key in delete:\n",
    "    del d[key]\n",
    "print(d)\n",
    "\n",
    "\n",
    "#using pop\n",
    "d.pop('c', None)\n",
    "print(d)"
   ]
  }
 ],
 "metadata": {
  "kernelspec": {
   "display_name": "base",
   "language": "python",
   "name": "python3"
  },
  "language_info": {
   "codemirror_mode": {
    "name": "ipython",
    "version": 3
   },
   "file_extension": ".py",
   "mimetype": "text/x-python",
   "name": "python",
   "nbconvert_exporter": "python",
   "pygments_lexer": "ipython3",
   "version": "3.12.7"
  }
 },
 "nbformat": 4,
 "nbformat_minor": 5
}
