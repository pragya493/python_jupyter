{
 "cells": [
  {
   "cell_type": "code",
   "execution_count": null,
   "id": "fe08f4c1",
   "metadata": {},
   "outputs": [
    {
     "name": "stdout",
     "output_type": "stream",
     "text": [
      "((0, 1, 2, 3), ('Python', 'Rust'))\n",
      "(0, 1, 2, 3, 'Python', 'Rust')\n",
      "('Python', 'Python', 'Python')\n",
      "R\n",
      "('u', 's', 't')\n",
      "('t', 's', 'u', 'R')\n",
      "('s', 't')\n",
      "Mind Soul Heart\n",
      "1\n",
      "[2, 3, 4]\n",
      "5\n"
     ]
    }
   ],
   "source": [
    "#creating tuples with nested tuples\n",
    "tup1 = (0, 1, 2, 3)\n",
    "tup2 = ('Python', 'Rust')\n",
    "\n",
    "tup = (tup1, tup2)\n",
    "print(tup)\n",
    "\n",
    "#concat tuples\n",
    "tup = tup1 + tup2\n",
    "print(tup)\n",
    "\n",
    "#creating tuple with repetition\n",
    "tup1 = ('Python',) * 3\n",
    "print(tup1)\n",
    "\n",
    "#Slicing of tuples\n",
    "tup = tuple(\"Rust\")\n",
    "print(tup[0])\n",
    "print(tup[1:])\n",
    "print(tup[::-1]) #reverse the tuple\n",
    "print(tup[2:4])\n",
    "\n",
    "#Tuples unpacking\n",
    "tup = (\"Mind\", \"Soul\", \"Heart\")\n",
    "a, b, c = tup\n",
    "print(a, b, c)\n",
    "\n",
    "#del tup - delete the tuple\n",
    "\n",
    "#unpacking tuple using *\n",
    "tup = (1, 2, 3, 4, 5)\n",
    "a, *b, c = tup\n",
    "print(a)\n",
    "print(b) #collects into a list\n",
    "print(c)"
   ]
  },
  {
   "cell_type": "code",
   "execution_count": 3,
   "id": "e34b85ec",
   "metadata": {},
   "outputs": [
    {
     "name": "stdout",
     "output_type": "stream",
     "text": [
      "(10,) <class 'tuple'>\n",
      "10 <class 'int'>\n",
      "(4, 5, 6) <class 'tuple'>\n"
     ]
    }
   ],
   "source": [
    "#single ele tuple\n",
    "\n",
    "tup = (10,)\n",
    "print(tup, type(tup))\n",
    "\n",
    "tup = (10)\n",
    "print(tup, type(tup))\n",
    "\n",
    "tup = 4, 5, 6\n",
    "print(tup, type(tup))\n"
   ]
  },
  {
   "cell_type": "code",
   "execution_count": 9,
   "id": "37b704b9",
   "metadata": {},
   "outputs": [
    {
     "name": "stdout",
     "output_type": "stream",
     "text": [
      "[(1, 'apple'), (2, 'orange'), (3, 'cherry')]\n",
      "[(1, 'apple'), (2, 'orange'), (3, 'cherry')]\n"
     ]
    }
   ],
   "source": [
    "#create list of tuples in python\n",
    "\n",
    "#using zip()\n",
    "a = [1, 2, 3]\n",
    "b = ['apple', 'orange', 'cherry']\n",
    "res = list(zip(a, b))\n",
    "print(res)\n",
    "\n",
    "#using map()\n",
    "a = [[1, 'apple'], [2, 'orange'], [3, 'cherry']]\n",
    "res = list(map(tuple, a))\n",
    "\n",
    "#list comprehension\n",
    "a = [1, 2, 3]\n",
    "b = ['apple', 'orange', 'cherry']\n",
    "\n",
    "res = [(x, y) for x, y in zip(a, b)]\n",
    "print(res)"
   ]
  },
  {
   "cell_type": "code",
   "execution_count": 13,
   "id": "f7ccf416",
   "metadata": {},
   "outputs": [
    {
     "name": "stdout",
     "output_type": "stream",
     "text": [
      "('Python', 'is', 'best')\n",
      "('Python', 'is', 'best')\n",
      "('Python', 'is', 'best')\n",
      "('Python', 'is', 'best')\n"
     ]
    }
   ],
   "source": [
    "#create tuple from string & list\n",
    "a = [\"Python\", \"is\"]\n",
    "b = \"best\"\n",
    "\n",
    "res = tuple(a) + (b,)\n",
    "print(res)\n",
    "\n",
    "#method-2\n",
    "# * operator - iterable unpacking into tuple\n",
    "\n",
    "res = (*a, b)\n",
    "print(res)\n",
    "\n",
    "#method-3\n",
    "# using chain()\n",
    "from itertools import chain\n",
    "res = tuple(chain(a, [b]))\n",
    "print(res)\n",
    "\n",
    "#method-4\n",
    "#using append()\n",
    "\n",
    "a.append(b)\n",
    "res = tuple(a)\n",
    "print(res)"
   ]
  },
  {
   "cell_type": "code",
   "execution_count": null,
   "id": "49638e00",
   "metadata": {},
   "outputs": [
    {
     "name": "stdout",
     "output_type": "stream",
     "text": [
      "(1, 4)\n"
     ]
    }
   ],
   "source": [
    "tup = (10, 20, 30, 40)\n",
    "res = (tup[0], tup[-1])\n",
    "print(res)"
   ]
  },
  {
   "cell_type": "code",
   "execution_count": null,
   "id": "2adab149",
   "metadata": {},
   "outputs": [
    {
     "name": "stdout",
     "output_type": "stream",
     "text": [
      "100\n",
      "300\n",
      "1\n",
      "[2, 3, 4, 5]\n",
      "a: 1, b: 2, c: 3, d: 4\n",
      "Sum: 15\n",
      "sum: 6\n"
     ]
    }
   ],
   "source": [
    "#unpacking tuple - more methods\n",
    "\n",
    "#method-1 (use _ as throwaway variable)\n",
    "a, _, c = (100, 200, 300)\n",
    "print(a)\n",
    "print(c)\n",
    "\n",
    "#method-2\n",
    "a, *b = (1, 2, 3, 4, 5)\n",
    "print(a)\n",
    "print(b)\n",
    "\n",
    "#method-3\n",
    "a, (b,c), d = (1, (2, 3), 4)\n",
    "print(f\"a: {a}, b: {b}, c: {c}, d: {d}\")\n",
    "\n",
    "#method-4 (using *args) - allows passing multiple arguments\n",
    "def add(*args):\n",
    "    return sum(args)\n",
    "print(\"Sum:\",add(1, 2, 3, 4, 5))\n",
    "\n",
    "#method-5 (Using *) for argument unpacking\n",
    "def add(a, b, c):\n",
    "    return a+b+c\n",
    "\n",
    "num = (1, 2, 3)\n",
    "print(\"sum:\",add(*num))\n"
   ]
  },
  {
   "cell_type": "code",
   "execution_count": 25,
   "id": "08720cf0",
   "metadata": {},
   "outputs": [
    {
     "name": "stdout",
     "output_type": "stream",
     "text": [
      "[(4, 5, 'Sun'), (7, 8, 6)]\n",
      "[(4, 5, 'Sun'), (7, 8, 6)]\n"
     ]
    }
   ],
   "source": [
    "#Unpacking Nested Tuples\n",
    "\n",
    "#method-1 Using map()\n",
    "series = [(4, (5, 'Sun')), (7, (8, 6))]\n",
    "res = list(map(lambda x: (x[0], x[1][0], x[1][1]), series))\n",
    "print(res)\n",
    "\n",
    "#method-2\n",
    "\n",
    "res =[]\n",
    "for x,(y,z) in series:\n",
    "    res.append((x, y, z))\n",
    "print(res)"
   ]
  },
  {
   "cell_type": "code",
   "execution_count": 34,
   "id": "06c59f75",
   "metadata": {},
   "outputs": [
    {
     "name": "stdout",
     "output_type": "stream",
     "text": [
      "()\n",
      "(1, 2, 3, 4, 5)\n"
     ]
    }
   ],
   "source": [
    "test = (1, 2, 3, 4, 5)\n",
    "\n",
    "temp = list(test)\n",
    "temp.clear()\n",
    "test2 = tuple(temp)\n",
    "print(test2)\n",
    "print(test)"
   ]
  },
  {
   "cell_type": "code",
   "execution_count": 38,
   "id": "5df6bf04",
   "metadata": {},
   "outputs": [
    {
     "name": "stdout",
     "output_type": "stream",
     "text": [
      "('All', 'the', 'Best')\n",
      "('All', 'the', 'Best')\n",
      "(1, 2, 3, 4)\n"
     ]
    }
   ],
   "source": [
    "#Tuples - Immutable. Other than slicing can't modify tuple or convert into list and then modify.\n",
    "tup = (\"All\", \"the\", \"Best\", \"Jane\")\n",
    "\n",
    "#remove last ele\n",
    "tup = tup[:-1]\n",
    "print(tup)\n",
    "\n",
    "#convert to list and then remove\n",
    "tup = (\"All\", \"the\", \"Best\", \"Jane\")\n",
    "tup = list(tup)\n",
    "tup.remove(tup[-1])\n",
    "print(tuple(tup))\n",
    "\n",
    "#remove last ele using filter() function\n",
    "\n",
    "tu = (1, 2, 3, 4, 5)\n",
    "tu = tuple(filter(lambda x: x!= tu[-1], tu))\n",
    "print(tu)"
   ]
  },
  {
   "cell_type": "code",
   "execution_count": 45,
   "id": "784c3b02",
   "metadata": {},
   "outputs": [
    {
     "name": "stdout",
     "output_type": "stream",
     "text": [
      "(1, 2, 3, 4, 5)\n",
      "(1, 2, 3, 4, 5)\n",
      "(1, 2, 3, 4, 5)\n",
      "(1, 2, 3, 4, 5)\n",
      "(1, 2, 3, 4, 5)\n"
     ]
    }
   ],
   "source": [
    "#removing duplicates in tuple\n",
    "\n",
    "tup = (1, 2, 3, 1, 1, 2, 4, 5, 5)\n",
    "\n",
    "#method-1\n",
    "res = tuple(set(tup))\n",
    "print(res)\n",
    "\n",
    "#method-2\n",
    "from collections import OrderedDict\n",
    "res = tuple(OrderedDict.fromkeys(tup).keys())\n",
    "print(res)\n",
    "\n",
    "#method-3\n",
    "x = []\n",
    "for i in tup:\n",
    "    if i not in x:\n",
    "        x.append(i)\n",
    "res = tuple(x)\n",
    "print(res)\n",
    "\n",
    "#method-4 - list comprehension\n",
    "res = [x for i, x in enumerate(tup) if x not in tup[:i]]\n",
    "print(tuple(res))\n",
    "\n",
    "#method-5\n",
    "from collections import Counter\n",
    "res = tuple(Counter(tup).keys())\n",
    "print(res)"
   ]
  },
  {
   "cell_type": "code",
   "execution_count": 52,
   "id": "5612d38b",
   "metadata": {},
   "outputs": [
    {
     "name": "stdout",
     "output_type": "stream",
     "text": [
      "(10, 20, 30, 40, 50)\n",
      "(10, 20, 30, 40, 50)\n",
      "(10, 20, 30, 40, 50)\n",
      "(10, 20, 30, 40, 50)\n"
     ]
    }
   ],
   "source": [
    "#concat the tuples\n",
    "\n",
    "#using itertools.chain()\n",
    "\n",
    "import itertools\n",
    "t1 = (10, 20, 30)\n",
    "t2 = (40, 50)\n",
    "\n",
    "print(tuple(itertools.chain(t1, t2)))\n",
    "\n",
    "#Using sum()\n",
    "res = sum((t1, t2), ())\n",
    "print(res)\n",
    "\n",
    "l1 = list(t1)\n",
    "l2 = list(t2)\n",
    "l1.extend(l2)\n",
    "print(tuple(l1))\n",
    "\n",
    "#using tuple() constructor and *\n",
    "T = tuple((*t1, *t2))\n",
    "print(T)"
   ]
  },
  {
   "cell_type": "code",
   "execution_count": 56,
   "id": "c4fdc92d",
   "metadata": {},
   "outputs": [
    {
     "name": "stdout",
     "output_type": "stream",
     "text": [
      "(0, 0, 2)\n",
      "(0, 0, 2)\n"
     ]
    }
   ],
   "source": [
    "#AND operation between tuples\n",
    "\n",
    "t1 = (1, 2, 3)\n",
    "t2 = (10, 20, 30)\n",
    "\n",
    "res = tuple([i & j for i, j in zip(t1, t2)])\n",
    "print(res)\n",
    "\n",
    "#method-2\n",
    "import operator\n",
    "res = tuple(map(operator.iand, t1, t2))\n",
    "print(res)"
   ]
  },
  {
   "cell_type": "code",
   "execution_count": null,
   "id": "b0e4202d",
   "metadata": {},
   "outputs": [
    {
     "name": "stdout",
     "output_type": "stream",
     "text": [
      "21\n",
      "21.0\n",
      "[3, 7, 11] 21\n"
     ]
    }
   ],
   "source": [
    "#Sum of tuple\n",
    "\n",
    "tup = (1, 2, 3, 4, 5, 6)\n",
    "\n",
    "#method-1\n",
    "import operator\n",
    "from functools import reduce\n",
    "\n",
    "res = reduce(operator.add, tup)\n",
    "print(res)\n",
    "\n",
    "#method-2\n",
    "import math\n",
    "\n",
    "res = math.fsum(tup)\n",
    "print(res)\n",
    "\n",
    "#method-3: map() does sums of each list & appends the sum to new list\n",
    "t1 = ([1, 2], [3, 4], [5, 6])\n",
    "res = list(map(sum, list(t1)))\n",
    "print(res, sum(res))\n",
    "\n"
   ]
  },
  {
   "cell_type": "code",
   "execution_count": 71,
   "id": "31014a10",
   "metadata": {},
   "outputs": [
    {
     "name": "stdout",
     "output_type": "stream",
     "text": [
      "((1, 10), (1, 10), (1, 10))\n",
      "((1, 10), (1, 10), (1, 10))\n",
      "((1, 10), (1, 10), (1, 10))\n",
      "((1, 10), (1, 10), (1, 10))\n"
     ]
    }
   ],
   "source": [
    "#Repeating tuples N times\n",
    "\n",
    "t1 = (1, 10)\n",
    "\n",
    "#method-1\n",
    "res = ((t1,) * 3)\n",
    "print(res)\n",
    "\n",
    "#method-2\n",
    "from itertools import repeat\n",
    "res = tuple(repeat(t1, 3))\n",
    "print(res)\n",
    "\n",
    "#method-3\n",
    "res = [t1 for i in range(0,3)]\n",
    "print(tuple(res))\n",
    "\n",
    "#method-4\n",
    "res = tuple(map(lambda x: t1, range(3)))\n",
    "print(res)"
   ]
  },
  {
   "cell_type": "code",
   "execution_count": 73,
   "id": "55d8b95e",
   "metadata": {},
   "outputs": [
    {
     "name": "stdout",
     "output_type": "stream",
     "text": [
      "True\n"
     ]
    }
   ],
   "source": [
    "#compare tuples\n",
    "\n",
    "t1 = (1, 2, 3)\n",
    "t2 = (10, 20, 30)\n",
    "\n",
    "res = all(x < y for x, y in zip(t1, t2))\n",
    "print(res)"
   ]
  },
  {
   "cell_type": "code",
   "execution_count": 74,
   "id": "97eb2e23",
   "metadata": {},
   "outputs": [
    {
     "name": "stdout",
     "output_type": "stream",
     "text": [
      "[1, 10, 2, 20]\n",
      "[1, 10, 2, 20]\n",
      "[1, 10, 2, 20]\n"
     ]
    }
   ],
   "source": [
    "#join list of tuples in 1 list\n",
    "\n",
    "t1 = [(1, 10), (2, 20)]\n",
    "\n",
    "#method-1\n",
    "t2 = []\n",
    "for t in t1:\n",
    "    for val in t:\n",
    "        t2.append(val)\n",
    "print(t2)\n",
    "\n",
    "#method-2\n",
    "res = [val for t in t1 for val in t]\n",
    "print(res)\n",
    "\n",
    "#method-3\n",
    "from itertools import chain\n",
    "res = list(chain(*t1))\n",
    "print(res)"
   ]
  },
  {
   "cell_type": "code",
   "execution_count": null,
   "id": "6d82ff60",
   "metadata": {},
   "outputs": [
    {
     "name": "stdout",
     "output_type": "stream",
     "text": [
      "[(10, 0), (20, 1), (30, 2), (40, 3), (50, 4)]\n",
      "[(10, 0), (20, 1), (30, 2), (40, 3), (50, 4)]\n"
     ]
    }
   ],
   "source": [
    "#create list of tuples\n",
    "\n",
    "x = [10, 20, 30, 40, 50]\n",
    "\n",
    "#method-1\n",
    "y = [i for i in range(len(x))]\n",
    "res = list(zip(x, y))\n",
    "print(res)\n",
    "\n",
    "#method-2\n",
    "res = []\n",
    "for i, ele in enumerate(x):\n",
    "    res.append((ele, i))\n",
    "print(res)"
   ]
  }
 ],
 "metadata": {
  "kernelspec": {
   "display_name": "base",
   "language": "python",
   "name": "python3"
  },
  "language_info": {
   "codemirror_mode": {
    "name": "ipython",
    "version": 3
   },
   "file_extension": ".py",
   "mimetype": "text/x-python",
   "name": "python",
   "nbconvert_exporter": "python",
   "pygments_lexer": "ipython3",
   "version": "3.12.7"
  }
 },
 "nbformat": 4,
 "nbformat_minor": 5
}
